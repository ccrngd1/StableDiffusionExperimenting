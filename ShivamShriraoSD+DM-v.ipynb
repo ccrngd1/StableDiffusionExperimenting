{
 "cells": [
  {
   "cell_type": "markdown",
   "metadata": {},
   "source": [
    "Login to HuggingFace and settings"
   ]
  },
  {
   "cell_type": "code",
   "execution_count": 2,
   "metadata": {},
   "outputs": [
    {
     "name": "stdout",
     "output_type": "stream",
     "text": [
      "[*] Weights will be saved at ./content/stable_diffusion_weights/v\n"
     ]
    }
   ],
   "source": [
    "!mkdir -p ~/.huggingface\n",
    "\n",
    "#ONLY RUN ONCE\n",
    "#HUGGINGFACE_TOKEN =\"INSERT_TOKEN_HERE\" \n",
    "#!echo -n \"{HUGGINGFACE_TOKEN}\" > ~/.huggingface/token\n",
    "\n",
    "MODEL_NAME = \"runwayml/stable-diffusion-v1-5\"\n",
    "\n",
    "#OUTPUT_DIR = \"stable_diffusion_weights/cc\" #@param {type:\"string\"}\n",
    "OUTPUT_DIR = \"stable_diffusion_weights/v\" #@param {type:\"string\"}\n",
    "OUTPUT_DIR = \"./content/\" + OUTPUT_DIR\n",
    "\n",
    "print(f\"[*] Weights will be saved at {OUTPUT_DIR}\")\n",
    "\n",
    "!mkdir -p $OUTPUT_DIR"
   ]
  },
  {
   "cell_type": "markdown",
   "metadata": {},
   "source": [
    "Check type of GPU and VRAM available\n",
    "if this returns 'command not found' you are not using a GPU with your notebook"
   ]
  },
  {
   "cell_type": "code",
   "execution_count": 3,
   "metadata": {},
   "outputs": [
    {
     "name": "stdout",
     "output_type": "stream",
     "text": [
      "Tesla T4, 15109 MiB, 15109 MiB\n"
     ]
    }
   ],
   "source": [
    "!nvidia-smi --query-gpu=name,memory.total,memory.free --format=csv,noheader"
   ]
  },
  {
   "cell_type": "markdown",
   "metadata": {},
   "source": [
    "Install deps"
   ]
  },
  {
   "cell_type": "code",
   "execution_count": 4,
   "metadata": {},
   "outputs": [
    {
     "name": "stdout",
     "output_type": "stream",
     "text": [
      "Note: you may need to restart the kernel to use updated packages.\n",
      "\u001b[33mWARNING: Running pip as the 'root' user can result in broken permissions and conflicting behaviour with the system package manager. It is recommended to use a virtual environment instead: https://pip.pypa.io/warnings/venv\u001b[0m\u001b[33m\n",
      "\u001b[0m\n",
      "\u001b[1m[\u001b[0m\u001b[34;49mnotice\u001b[0m\u001b[1;39;49m]\u001b[0m\u001b[39;49m A new release of pip available: \u001b[0m\u001b[31;49m22.2.2\u001b[0m\u001b[39;49m -> \u001b[0m\u001b[32;49m22.3.1\u001b[0m\n",
      "\u001b[1m[\u001b[0m\u001b[34;49mnotice\u001b[0m\u001b[1;39;49m]\u001b[0m\u001b[39;49m To update, run: \u001b[0m\u001b[32;49mpip install --upgrade pip\u001b[0m\n",
      "Note: you may need to restart the kernel to use updated packages.\n",
      "\u001b[33mWARNING: Running pip as the 'root' user can result in broken permissions and conflicting behaviour with the system package manager. It is recommended to use a virtual environment instead: https://pip.pypa.io/warnings/venv\u001b[0m\u001b[33m\n",
      "\u001b[0m\n",
      "\u001b[1m[\u001b[0m\u001b[34;49mnotice\u001b[0m\u001b[1;39;49m]\u001b[0m\u001b[39;49m A new release of pip available: \u001b[0m\u001b[31;49m22.2.2\u001b[0m\u001b[39;49m -> \u001b[0m\u001b[32;49m22.3.1\u001b[0m\n",
      "\u001b[1m[\u001b[0m\u001b[34;49mnotice\u001b[0m\u001b[1;39;49m]\u001b[0m\u001b[39;49m To update, run: \u001b[0m\u001b[32;49mpip install --upgrade pip\u001b[0m\n",
      "Note: you may need to restart the kernel to use updated packages.\n",
      "\u001b[33mWARNING: Running pip as the 'root' user can result in broken permissions and conflicting behaviour with the system package manager. It is recommended to use a virtual environment instead: https://pip.pypa.io/warnings/venv\u001b[0m\u001b[33m\n",
      "\u001b[0m\n",
      "\u001b[1m[\u001b[0m\u001b[34;49mnotice\u001b[0m\u001b[1;39;49m]\u001b[0m\u001b[39;49m A new release of pip available: \u001b[0m\u001b[31;49m22.2.2\u001b[0m\u001b[39;49m -> \u001b[0m\u001b[32;49m22.3.1\u001b[0m\n",
      "\u001b[1m[\u001b[0m\u001b[34;49mnotice\u001b[0m\u001b[1;39;49m]\u001b[0m\u001b[39;49m To update, run: \u001b[0m\u001b[32;49mpip install --upgrade pip\u001b[0m\n",
      "Note: you may need to restart the kernel to use updated packages.\n"
     ]
    }
   ],
   "source": [
    "#!wget -q https://github.com/ShivamShrirao/diffusers/raw/main/examples/dreambooth/train_dreambooth.py\n",
    "#!wget -q https://github.com/ShivamShrirao/diffusers/raw/main/scripts/convert_diffusers_to_original_stable_diffusion.py\n",
    "%pip install -qq git+https://github.com/ShivamShrirao/diffusers\n",
    "%pip install -q -U --pre triton\n",
    "%pip install -q accelerate==0.12.0 transformers ftfy bitsandbytes gradio natsort\n",
    "%pip install -q https://github.com/brian6091/xformers-wheels/releases/download/0.0.15.dev0%2B4c06c79/xformers-0.0.15.dev0+4c06c79.d20221205-cp38-cp38-linux_x86_64.whl\n",
    "    "
   ]
  },
  {
   "cell_type": "code",
   "execution_count": 5,
   "metadata": {},
   "outputs": [],
   "source": [
    "import random"
   ]
  },
  {
   "cell_type": "markdown",
   "metadata": {},
   "source": [
    "Start training"
   ]
  },
  {
   "cell_type": "code",
   "execution_count": 6,
   "metadata": {},
   "outputs": [],
   "source": [
    "# You can also add multiple concepts here. Try tweaking `--max_train_steps` accordingly.\n",
    "\n",
    "concepts_list = [     \n",
    "    {\n",
    "         \"instance_prompt\":      \"photo of v person\",\n",
    "         \"class_prompt\":         \"photo of a person\",\n",
    "         \"instance_data_dir\":    \"./content/data/v\",\n",
    "         \"class_data_dir\":       \"./content/data/person\"\n",
    "     },\n",
    "]\n",
    "\n",
    "# `class_data_dir` contains regularization images\n",
    "import json\n",
    "import os\n",
    "for c in concepts_list:\n",
    "    os.makedirs(c[\"instance_data_dir\"], exist_ok=True)\n",
    "\n",
    "with open(\"concepts_list.json\", \"w\") as f:\n",
    "    json.dump(concepts_list, f, indent=4)"
   ]
  },
  {
   "cell_type": "code",
   "execution_count": 7,
   "metadata": {},
   "outputs": [
    {
     "name": "stdout",
     "output_type": "stream",
     "text": [
      "The following values were not passed to `accelerate launch` and had defaults used instead:\n",
      "\t`--num_processes` was set to a value of `1`\n",
      "\t`--num_machines` was set to a value of `1`\n",
      "\t`--mixed_precision` was set to a value of `'no'`\n",
      "\t`--num_cpu_threads_per_process` was set to `2` to improve out-of-box performance\n",
      "To avoid this warning pass in values for each of the problematic parameters or run `accelerate config`.\n",
      "/opt/conda/lib/python3.8/site-packages/torchvision/io/image.py:13: UserWarning: Failed to load image Python extension: /opt/conda/lib/python3.8/site-packages/torchvision/image.so: undefined symbol: _ZN2at4_ops19empty_memory_format4callEN3c108ArrayRefIlEENS2_8optionalINS2_10ScalarTypeEEENS5_INS2_6LayoutEEENS5_INS2_6DeviceEEENS5_IbEENS5_INS2_12MemoryFormatEEE\n",
      "  warn(f\"Failed to load image Python extension: {e}\")\n",
      "/opt/conda/lib/python3.8/site-packages/accelerate/accelerator.py:179: UserWarning: `log_with=tensorboard` was passed but no supported trackers are currently installed.\n",
      "  warnings.warn(f\"`log_with={log_with}` was passed but no supported trackers are currently installed.\")\n",
      "loaded concepts_list from file\n",
      "checking concepts_list [{'instance_prompt': 'photo of v person', 'class_prompt': 'photo of a person', 'instance_data_dir': './content/data/v', 'class_data_dir': './content/data/person'}]\n",
      "checking concept {'instance_prompt': 'photo of v person', 'class_prompt': 'photo of a person', 'instance_data_dir': './content/data/v', 'class_data_dir': './content/data/person'}\n",
      "checking concept[\"class_data_dir\"] ./content/data/person\n",
      "checking class_data_dir\n",
      "./content/data/person\n",
      "/opt/conda/lib/python3.8/site-packages/diffusers/utils/deprecation_utils.py:35: FutureWarning: It is deprecated to pass a pretrained model name or path to `from_config`.If you were trying to load a scheduler, please use <class 'diffusers.schedulers.scheduling_ddpm.DDPMScheduler'>.from_pretrained(...) instead. Otherwise, please make sure to pass a configuration dictionary instead. This functionality will be removed in v1.0.0.\n",
      "  warnings.warn(warning + message, FutureWarning)\n",
      "Caching latents:   0%|                                   | 0/50 [00:00<?, ?it/s]_getitem_ info: self.instance_images_path [(PosixPath('content/data/v/v16.jpg'), 'photo of v person'), (PosixPath('content/data/v/v9.jpg'), 'photo of v person'), (PosixPath('content/data/v/v10.jpg'), 'photo of v person'), (PosixPath('content/data/v/v3.jpg'), 'photo of v person'), (PosixPath('content/data/v/v7.jpg'), 'photo of v person'), (PosixPath('content/data/v/v12.jpg'), 'photo of v person'), (PosixPath('content/data/v/v18.jpg'), 'photo of v person'), (PosixPath('content/data/v/v2.jpg'), 'photo of v person'), (PosixPath('content/data/v/v5.jpg'), 'photo of v person'), (PosixPath('content/data/v/v6.jpg'), 'photo of v person'), (PosixPath('content/data/v/v4.jpg'), 'photo of v person'), (PosixPath('content/data/v/v1.jpg'), 'photo of v person'), (PosixPath('content/data/v/v15.jpg'), 'photo of v person'), (PosixPath('content/data/v/v17.jpg'), 'photo of v person'), (PosixPath('content/data/v/v8.jpg'), 'photo of v person'), (PosixPath('content/data/v/v14.jpg'), 'photo of v person'), (PosixPath('content/data/v/v13.jpg'), 'photo of v person'), (PosixPath('content/data/v/v11.jpg'), 'photo of v person')] with self.num_instance_images 18\n",
      "Caching latents:   2%|▌                          | 1/50 [00:04<03:27,  4.23s/it]_getitem_ info: self.instance_images_path [(PosixPath('content/data/v/v16.jpg'), 'photo of v person'), (PosixPath('content/data/v/v9.jpg'), 'photo of v person'), (PosixPath('content/data/v/v10.jpg'), 'photo of v person'), (PosixPath('content/data/v/v3.jpg'), 'photo of v person'), (PosixPath('content/data/v/v7.jpg'), 'photo of v person'), (PosixPath('content/data/v/v12.jpg'), 'photo of v person'), (PosixPath('content/data/v/v18.jpg'), 'photo of v person'), (PosixPath('content/data/v/v2.jpg'), 'photo of v person'), (PosixPath('content/data/v/v5.jpg'), 'photo of v person'), (PosixPath('content/data/v/v6.jpg'), 'photo of v person'), (PosixPath('content/data/v/v4.jpg'), 'photo of v person'), (PosixPath('content/data/v/v1.jpg'), 'photo of v person'), (PosixPath('content/data/v/v15.jpg'), 'photo of v person'), (PosixPath('content/data/v/v17.jpg'), 'photo of v person'), (PosixPath('content/data/v/v8.jpg'), 'photo of v person'), (PosixPath('content/data/v/v14.jpg'), 'photo of v person'), (PosixPath('content/data/v/v13.jpg'), 'photo of v person'), (PosixPath('content/data/v/v11.jpg'), 'photo of v person')] with self.num_instance_images 18\n",
      "_getitem_ info: self.instance_images_path [(PosixPath('content/data/v/v16.jpg'), 'photo of v person'), (PosixPath('content/data/v/v9.jpg'), 'photo of v person'), (PosixPath('content/data/v/v10.jpg'), 'photo of v person'), (PosixPath('content/data/v/v3.jpg'), 'photo of v person'), (PosixPath('content/data/v/v7.jpg'), 'photo of v person'), (PosixPath('content/data/v/v12.jpg'), 'photo of v person'), (PosixPath('content/data/v/v18.jpg'), 'photo of v person'), (PosixPath('content/data/v/v2.jpg'), 'photo of v person'), (PosixPath('content/data/v/v5.jpg'), 'photo of v person'), (PosixPath('content/data/v/v6.jpg'), 'photo of v person'), (PosixPath('content/data/v/v4.jpg'), 'photo of v person'), (PosixPath('content/data/v/v1.jpg'), 'photo of v person'), (PosixPath('content/data/v/v15.jpg'), 'photo of v person'), (PosixPath('content/data/v/v17.jpg'), 'photo of v person'), (PosixPath('content/data/v/v8.jpg'), 'photo of v person'), (PosixPath('content/data/v/v14.jpg'), 'photo of v person'), (PosixPath('content/data/v/v13.jpg'), 'photo of v person'), (PosixPath('content/data/v/v11.jpg'), 'photo of v person')] with self.num_instance_images 18\n",
      "Caching latents:   6%|█▌                         | 3/50 [00:04<00:54,  1.17s/it]_getitem_ info: self.instance_images_path [(PosixPath('content/data/v/v16.jpg'), 'photo of v person'), (PosixPath('content/data/v/v9.jpg'), 'photo of v person'), (PosixPath('content/data/v/v10.jpg'), 'photo of v person'), (PosixPath('content/data/v/v3.jpg'), 'photo of v person'), (PosixPath('content/data/v/v7.jpg'), 'photo of v person'), (PosixPath('content/data/v/v12.jpg'), 'photo of v person'), (PosixPath('content/data/v/v18.jpg'), 'photo of v person'), (PosixPath('content/data/v/v2.jpg'), 'photo of v person'), (PosixPath('content/data/v/v5.jpg'), 'photo of v person'), (PosixPath('content/data/v/v6.jpg'), 'photo of v person'), (PosixPath('content/data/v/v4.jpg'), 'photo of v person'), (PosixPath('content/data/v/v1.jpg'), 'photo of v person'), (PosixPath('content/data/v/v15.jpg'), 'photo of v person'), (PosixPath('content/data/v/v17.jpg'), 'photo of v person'), (PosixPath('content/data/v/v8.jpg'), 'photo of v person'), (PosixPath('content/data/v/v14.jpg'), 'photo of v person'), (PosixPath('content/data/v/v13.jpg'), 'photo of v person'), (PosixPath('content/data/v/v11.jpg'), 'photo of v person')] with self.num_instance_images 18\n",
      "Caching latents:   8%|██▏                        | 4/50 [00:04<00:37,  1.22it/s]_getitem_ info: self.instance_images_path [(PosixPath('content/data/v/v16.jpg'), 'photo of v person'), (PosixPath('content/data/v/v9.jpg'), 'photo of v person'), (PosixPath('content/data/v/v10.jpg'), 'photo of v person'), (PosixPath('content/data/v/v3.jpg'), 'photo of v person'), (PosixPath('content/data/v/v7.jpg'), 'photo of v person'), (PosixPath('content/data/v/v12.jpg'), 'photo of v person'), (PosixPath('content/data/v/v18.jpg'), 'photo of v person'), (PosixPath('content/data/v/v2.jpg'), 'photo of v person'), (PosixPath('content/data/v/v5.jpg'), 'photo of v person'), (PosixPath('content/data/v/v6.jpg'), 'photo of v person'), (PosixPath('content/data/v/v4.jpg'), 'photo of v person'), (PosixPath('content/data/v/v1.jpg'), 'photo of v person'), (PosixPath('content/data/v/v15.jpg'), 'photo of v person'), (PosixPath('content/data/v/v17.jpg'), 'photo of v person'), (PosixPath('content/data/v/v8.jpg'), 'photo of v person'), (PosixPath('content/data/v/v14.jpg'), 'photo of v person'), (PosixPath('content/data/v/v13.jpg'), 'photo of v person'), (PosixPath('content/data/v/v11.jpg'), 'photo of v person')] with self.num_instance_images 18\n",
      "Caching latents:  10%|██▋                        | 5/50 [00:04<00:27,  1.65it/s]_getitem_ info: self.instance_images_path [(PosixPath('content/data/v/v16.jpg'), 'photo of v person'), (PosixPath('content/data/v/v9.jpg'), 'photo of v person'), (PosixPath('content/data/v/v10.jpg'), 'photo of v person'), (PosixPath('content/data/v/v3.jpg'), 'photo of v person'), (PosixPath('content/data/v/v7.jpg'), 'photo of v person'), (PosixPath('content/data/v/v12.jpg'), 'photo of v person'), (PosixPath('content/data/v/v18.jpg'), 'photo of v person'), (PosixPath('content/data/v/v2.jpg'), 'photo of v person'), (PosixPath('content/data/v/v5.jpg'), 'photo of v person'), (PosixPath('content/data/v/v6.jpg'), 'photo of v person'), (PosixPath('content/data/v/v4.jpg'), 'photo of v person'), (PosixPath('content/data/v/v1.jpg'), 'photo of v person'), (PosixPath('content/data/v/v15.jpg'), 'photo of v person'), (PosixPath('content/data/v/v17.jpg'), 'photo of v person'), (PosixPath('content/data/v/v8.jpg'), 'photo of v person'), (PosixPath('content/data/v/v14.jpg'), 'photo of v person'), (PosixPath('content/data/v/v13.jpg'), 'photo of v person'), (PosixPath('content/data/v/v11.jpg'), 'photo of v person')] with self.num_instance_images 18\n",
      "Caching latents:  12%|███▏                       | 6/50 [00:04<00:20,  2.16it/s]_getitem_ info: self.instance_images_path [(PosixPath('content/data/v/v16.jpg'), 'photo of v person'), (PosixPath('content/data/v/v9.jpg'), 'photo of v person'), (PosixPath('content/data/v/v10.jpg'), 'photo of v person'), (PosixPath('content/data/v/v3.jpg'), 'photo of v person'), (PosixPath('content/data/v/v7.jpg'), 'photo of v person'), (PosixPath('content/data/v/v12.jpg'), 'photo of v person'), (PosixPath('content/data/v/v18.jpg'), 'photo of v person'), (PosixPath('content/data/v/v2.jpg'), 'photo of v person'), (PosixPath('content/data/v/v5.jpg'), 'photo of v person'), (PosixPath('content/data/v/v6.jpg'), 'photo of v person'), (PosixPath('content/data/v/v4.jpg'), 'photo of v person'), (PosixPath('content/data/v/v1.jpg'), 'photo of v person'), (PosixPath('content/data/v/v15.jpg'), 'photo of v person'), (PosixPath('content/data/v/v17.jpg'), 'photo of v person'), (PosixPath('content/data/v/v8.jpg'), 'photo of v person'), (PosixPath('content/data/v/v14.jpg'), 'photo of v person'), (PosixPath('content/data/v/v13.jpg'), 'photo of v person'), (PosixPath('content/data/v/v11.jpg'), 'photo of v person')] with self.num_instance_images 18\n",
      "Caching latents:  14%|███▊                       | 7/50 [00:05<00:15,  2.71it/s]_getitem_ info: self.instance_images_path [(PosixPath('content/data/v/v16.jpg'), 'photo of v person'), (PosixPath('content/data/v/v9.jpg'), 'photo of v person'), (PosixPath('content/data/v/v10.jpg'), 'photo of v person'), (PosixPath('content/data/v/v3.jpg'), 'photo of v person'), (PosixPath('content/data/v/v7.jpg'), 'photo of v person'), (PosixPath('content/data/v/v12.jpg'), 'photo of v person'), (PosixPath('content/data/v/v18.jpg'), 'photo of v person'), (PosixPath('content/data/v/v2.jpg'), 'photo of v person'), (PosixPath('content/data/v/v5.jpg'), 'photo of v person'), (PosixPath('content/data/v/v6.jpg'), 'photo of v person'), (PosixPath('content/data/v/v4.jpg'), 'photo of v person'), (PosixPath('content/data/v/v1.jpg'), 'photo of v person'), (PosixPath('content/data/v/v15.jpg'), 'photo of v person'), (PosixPath('content/data/v/v17.jpg'), 'photo of v person'), (PosixPath('content/data/v/v8.jpg'), 'photo of v person'), (PosixPath('content/data/v/v14.jpg'), 'photo of v person'), (PosixPath('content/data/v/v13.jpg'), 'photo of v person'), (PosixPath('content/data/v/v11.jpg'), 'photo of v person')] with self.num_instance_images 18\n",
      "Caching latents:  16%|████▎                      | 8/50 [00:05<00:13,  3.21it/s]_getitem_ info: self.instance_images_path [(PosixPath('content/data/v/v16.jpg'), 'photo of v person'), (PosixPath('content/data/v/v9.jpg'), 'photo of v person'), (PosixPath('content/data/v/v10.jpg'), 'photo of v person'), (PosixPath('content/data/v/v3.jpg'), 'photo of v person'), (PosixPath('content/data/v/v7.jpg'), 'photo of v person'), (PosixPath('content/data/v/v12.jpg'), 'photo of v person'), (PosixPath('content/data/v/v18.jpg'), 'photo of v person'), (PosixPath('content/data/v/v2.jpg'), 'photo of v person'), (PosixPath('content/data/v/v5.jpg'), 'photo of v person'), (PosixPath('content/data/v/v6.jpg'), 'photo of v person'), (PosixPath('content/data/v/v4.jpg'), 'photo of v person'), (PosixPath('content/data/v/v1.jpg'), 'photo of v person'), (PosixPath('content/data/v/v15.jpg'), 'photo of v person'), (PosixPath('content/data/v/v17.jpg'), 'photo of v person'), (PosixPath('content/data/v/v8.jpg'), 'photo of v person'), (PosixPath('content/data/v/v14.jpg'), 'photo of v person'), (PosixPath('content/data/v/v13.jpg'), 'photo of v person'), (PosixPath('content/data/v/v11.jpg'), 'photo of v person')] with self.num_instance_images 18\n",
      "Caching latents:  18%|████▊                      | 9/50 [00:05<00:10,  3.77it/s]_getitem_ info: self.instance_images_path [(PosixPath('content/data/v/v16.jpg'), 'photo of v person'), (PosixPath('content/data/v/v9.jpg'), 'photo of v person'), (PosixPath('content/data/v/v10.jpg'), 'photo of v person'), (PosixPath('content/data/v/v3.jpg'), 'photo of v person'), (PosixPath('content/data/v/v7.jpg'), 'photo of v person'), (PosixPath('content/data/v/v12.jpg'), 'photo of v person'), (PosixPath('content/data/v/v18.jpg'), 'photo of v person'), (PosixPath('content/data/v/v2.jpg'), 'photo of v person'), (PosixPath('content/data/v/v5.jpg'), 'photo of v person'), (PosixPath('content/data/v/v6.jpg'), 'photo of v person'), (PosixPath('content/data/v/v4.jpg'), 'photo of v person'), (PosixPath('content/data/v/v1.jpg'), 'photo of v person'), (PosixPath('content/data/v/v15.jpg'), 'photo of v person'), (PosixPath('content/data/v/v17.jpg'), 'photo of v person'), (PosixPath('content/data/v/v8.jpg'), 'photo of v person'), (PosixPath('content/data/v/v14.jpg'), 'photo of v person'), (PosixPath('content/data/v/v13.jpg'), 'photo of v person'), (PosixPath('content/data/v/v11.jpg'), 'photo of v person')] with self.num_instance_images 18\n",
      "Caching latents:  20%|█████▏                    | 10/50 [00:05<00:09,  4.25it/s]_getitem_ info: self.instance_images_path [(PosixPath('content/data/v/v16.jpg'), 'photo of v person'), (PosixPath('content/data/v/v9.jpg'), 'photo of v person'), (PosixPath('content/data/v/v10.jpg'), 'photo of v person'), (PosixPath('content/data/v/v3.jpg'), 'photo of v person'), (PosixPath('content/data/v/v7.jpg'), 'photo of v person'), (PosixPath('content/data/v/v12.jpg'), 'photo of v person'), (PosixPath('content/data/v/v18.jpg'), 'photo of v person'), (PosixPath('content/data/v/v2.jpg'), 'photo of v person'), (PosixPath('content/data/v/v5.jpg'), 'photo of v person'), (PosixPath('content/data/v/v6.jpg'), 'photo of v person'), (PosixPath('content/data/v/v4.jpg'), 'photo of v person'), (PosixPath('content/data/v/v1.jpg'), 'photo of v person'), (PosixPath('content/data/v/v15.jpg'), 'photo of v person'), (PosixPath('content/data/v/v17.jpg'), 'photo of v person'), (PosixPath('content/data/v/v8.jpg'), 'photo of v person'), (PosixPath('content/data/v/v14.jpg'), 'photo of v person'), (PosixPath('content/data/v/v13.jpg'), 'photo of v person'), (PosixPath('content/data/v/v11.jpg'), 'photo of v person')] with self.num_instance_images 18\n",
      "Caching latents:  22%|█████▋                    | 11/50 [00:05<00:08,  4.66it/s]_getitem_ info: self.instance_images_path [(PosixPath('content/data/v/v16.jpg'), 'photo of v person'), (PosixPath('content/data/v/v9.jpg'), 'photo of v person'), (PosixPath('content/data/v/v10.jpg'), 'photo of v person'), (PosixPath('content/data/v/v3.jpg'), 'photo of v person'), (PosixPath('content/data/v/v7.jpg'), 'photo of v person'), (PosixPath('content/data/v/v12.jpg'), 'photo of v person'), (PosixPath('content/data/v/v18.jpg'), 'photo of v person'), (PosixPath('content/data/v/v2.jpg'), 'photo of v person'), (PosixPath('content/data/v/v5.jpg'), 'photo of v person'), (PosixPath('content/data/v/v6.jpg'), 'photo of v person'), (PosixPath('content/data/v/v4.jpg'), 'photo of v person'), (PosixPath('content/data/v/v1.jpg'), 'photo of v person'), (PosixPath('content/data/v/v15.jpg'), 'photo of v person'), (PosixPath('content/data/v/v17.jpg'), 'photo of v person'), (PosixPath('content/data/v/v8.jpg'), 'photo of v person'), (PosixPath('content/data/v/v14.jpg'), 'photo of v person'), (PosixPath('content/data/v/v13.jpg'), 'photo of v person'), (PosixPath('content/data/v/v11.jpg'), 'photo of v person')] with self.num_instance_images 18\n",
      "Caching latents:  24%|██████▏                   | 12/50 [00:05<00:07,  5.02it/s]_getitem_ info: self.instance_images_path [(PosixPath('content/data/v/v16.jpg'), 'photo of v person'), (PosixPath('content/data/v/v9.jpg'), 'photo of v person'), (PosixPath('content/data/v/v10.jpg'), 'photo of v person'), (PosixPath('content/data/v/v3.jpg'), 'photo of v person'), (PosixPath('content/data/v/v7.jpg'), 'photo of v person'), (PosixPath('content/data/v/v12.jpg'), 'photo of v person'), (PosixPath('content/data/v/v18.jpg'), 'photo of v person'), (PosixPath('content/data/v/v2.jpg'), 'photo of v person'), (PosixPath('content/data/v/v5.jpg'), 'photo of v person'), (PosixPath('content/data/v/v6.jpg'), 'photo of v person'), (PosixPath('content/data/v/v4.jpg'), 'photo of v person'), (PosixPath('content/data/v/v1.jpg'), 'photo of v person'), (PosixPath('content/data/v/v15.jpg'), 'photo of v person'), (PosixPath('content/data/v/v17.jpg'), 'photo of v person'), (PosixPath('content/data/v/v8.jpg'), 'photo of v person'), (PosixPath('content/data/v/v14.jpg'), 'photo of v person'), (PosixPath('content/data/v/v13.jpg'), 'photo of v person'), (PosixPath('content/data/v/v11.jpg'), 'photo of v person')] with self.num_instance_images 18\n",
      "Caching latents:  26%|██████▊                   | 13/50 [00:06<00:07,  5.28it/s]_getitem_ info: self.instance_images_path [(PosixPath('content/data/v/v16.jpg'), 'photo of v person'), (PosixPath('content/data/v/v9.jpg'), 'photo of v person'), (PosixPath('content/data/v/v10.jpg'), 'photo of v person'), (PosixPath('content/data/v/v3.jpg'), 'photo of v person'), (PosixPath('content/data/v/v7.jpg'), 'photo of v person'), (PosixPath('content/data/v/v12.jpg'), 'photo of v person'), (PosixPath('content/data/v/v18.jpg'), 'photo of v person'), (PosixPath('content/data/v/v2.jpg'), 'photo of v person'), (PosixPath('content/data/v/v5.jpg'), 'photo of v person'), (PosixPath('content/data/v/v6.jpg'), 'photo of v person'), (PosixPath('content/data/v/v4.jpg'), 'photo of v person'), (PosixPath('content/data/v/v1.jpg'), 'photo of v person'), (PosixPath('content/data/v/v15.jpg'), 'photo of v person'), (PosixPath('content/data/v/v17.jpg'), 'photo of v person'), (PosixPath('content/data/v/v8.jpg'), 'photo of v person'), (PosixPath('content/data/v/v14.jpg'), 'photo of v person'), (PosixPath('content/data/v/v13.jpg'), 'photo of v person'), (PosixPath('content/data/v/v11.jpg'), 'photo of v person')] with self.num_instance_images 18\n",
      "Caching latents:  28%|███████▎                  | 14/50 [00:06<00:06,  5.44it/s]_getitem_ info: self.instance_images_path [(PosixPath('content/data/v/v16.jpg'), 'photo of v person'), (PosixPath('content/data/v/v9.jpg'), 'photo of v person'), (PosixPath('content/data/v/v10.jpg'), 'photo of v person'), (PosixPath('content/data/v/v3.jpg'), 'photo of v person'), (PosixPath('content/data/v/v7.jpg'), 'photo of v person'), (PosixPath('content/data/v/v12.jpg'), 'photo of v person'), (PosixPath('content/data/v/v18.jpg'), 'photo of v person'), (PosixPath('content/data/v/v2.jpg'), 'photo of v person'), (PosixPath('content/data/v/v5.jpg'), 'photo of v person'), (PosixPath('content/data/v/v6.jpg'), 'photo of v person'), (PosixPath('content/data/v/v4.jpg'), 'photo of v person'), (PosixPath('content/data/v/v1.jpg'), 'photo of v person'), (PosixPath('content/data/v/v15.jpg'), 'photo of v person'), (PosixPath('content/data/v/v17.jpg'), 'photo of v person'), (PosixPath('content/data/v/v8.jpg'), 'photo of v person'), (PosixPath('content/data/v/v14.jpg'), 'photo of v person'), (PosixPath('content/data/v/v13.jpg'), 'photo of v person'), (PosixPath('content/data/v/v11.jpg'), 'photo of v person')] with self.num_instance_images 18\n",
      "Caching latents:  30%|███████▊                  | 15/50 [00:06<00:06,  5.58it/s]_getitem_ info: self.instance_images_path [(PosixPath('content/data/v/v16.jpg'), 'photo of v person'), (PosixPath('content/data/v/v9.jpg'), 'photo of v person'), (PosixPath('content/data/v/v10.jpg'), 'photo of v person'), (PosixPath('content/data/v/v3.jpg'), 'photo of v person'), (PosixPath('content/data/v/v7.jpg'), 'photo of v person'), (PosixPath('content/data/v/v12.jpg'), 'photo of v person'), (PosixPath('content/data/v/v18.jpg'), 'photo of v person'), (PosixPath('content/data/v/v2.jpg'), 'photo of v person'), (PosixPath('content/data/v/v5.jpg'), 'photo of v person'), (PosixPath('content/data/v/v6.jpg'), 'photo of v person'), (PosixPath('content/data/v/v4.jpg'), 'photo of v person'), (PosixPath('content/data/v/v1.jpg'), 'photo of v person'), (PosixPath('content/data/v/v15.jpg'), 'photo of v person'), (PosixPath('content/data/v/v17.jpg'), 'photo of v person'), (PosixPath('content/data/v/v8.jpg'), 'photo of v person'), (PosixPath('content/data/v/v14.jpg'), 'photo of v person'), (PosixPath('content/data/v/v13.jpg'), 'photo of v person'), (PosixPath('content/data/v/v11.jpg'), 'photo of v person')] with self.num_instance_images 18\n",
      "Caching latents:  32%|████████▎                 | 16/50 [00:06<00:05,  5.71it/s]_getitem_ info: self.instance_images_path [(PosixPath('content/data/v/v16.jpg'), 'photo of v person'), (PosixPath('content/data/v/v9.jpg'), 'photo of v person'), (PosixPath('content/data/v/v10.jpg'), 'photo of v person'), (PosixPath('content/data/v/v3.jpg'), 'photo of v person'), (PosixPath('content/data/v/v7.jpg'), 'photo of v person'), (PosixPath('content/data/v/v12.jpg'), 'photo of v person'), (PosixPath('content/data/v/v18.jpg'), 'photo of v person'), (PosixPath('content/data/v/v2.jpg'), 'photo of v person'), (PosixPath('content/data/v/v5.jpg'), 'photo of v person'), (PosixPath('content/data/v/v6.jpg'), 'photo of v person'), (PosixPath('content/data/v/v4.jpg'), 'photo of v person'), (PosixPath('content/data/v/v1.jpg'), 'photo of v person'), (PosixPath('content/data/v/v15.jpg'), 'photo of v person'), (PosixPath('content/data/v/v17.jpg'), 'photo of v person'), (PosixPath('content/data/v/v8.jpg'), 'photo of v person'), (PosixPath('content/data/v/v14.jpg'), 'photo of v person'), (PosixPath('content/data/v/v13.jpg'), 'photo of v person'), (PosixPath('content/data/v/v11.jpg'), 'photo of v person')] with self.num_instance_images 18\n",
      "Caching latents:  34%|████████▊                 | 17/50 [00:06<00:05,  5.80it/s]_getitem_ info: self.instance_images_path [(PosixPath('content/data/v/v16.jpg'), 'photo of v person'), (PosixPath('content/data/v/v9.jpg'), 'photo of v person'), (PosixPath('content/data/v/v10.jpg'), 'photo of v person'), (PosixPath('content/data/v/v3.jpg'), 'photo of v person'), (PosixPath('content/data/v/v7.jpg'), 'photo of v person'), (PosixPath('content/data/v/v12.jpg'), 'photo of v person'), (PosixPath('content/data/v/v18.jpg'), 'photo of v person'), (PosixPath('content/data/v/v2.jpg'), 'photo of v person'), (PosixPath('content/data/v/v5.jpg'), 'photo of v person'), (PosixPath('content/data/v/v6.jpg'), 'photo of v person'), (PosixPath('content/data/v/v4.jpg'), 'photo of v person'), (PosixPath('content/data/v/v1.jpg'), 'photo of v person'), (PosixPath('content/data/v/v15.jpg'), 'photo of v person'), (PosixPath('content/data/v/v17.jpg'), 'photo of v person'), (PosixPath('content/data/v/v8.jpg'), 'photo of v person'), (PosixPath('content/data/v/v14.jpg'), 'photo of v person'), (PosixPath('content/data/v/v13.jpg'), 'photo of v person'), (PosixPath('content/data/v/v11.jpg'), 'photo of v person')] with self.num_instance_images 18\n",
      "Caching latents:  36%|█████████▎                | 18/50 [00:06<00:05,  5.85it/s]_getitem_ info: self.instance_images_path [(PosixPath('content/data/v/v16.jpg'), 'photo of v person'), (PosixPath('content/data/v/v9.jpg'), 'photo of v person'), (PosixPath('content/data/v/v10.jpg'), 'photo of v person'), (PosixPath('content/data/v/v3.jpg'), 'photo of v person'), (PosixPath('content/data/v/v7.jpg'), 'photo of v person'), (PosixPath('content/data/v/v12.jpg'), 'photo of v person'), (PosixPath('content/data/v/v18.jpg'), 'photo of v person'), (PosixPath('content/data/v/v2.jpg'), 'photo of v person'), (PosixPath('content/data/v/v5.jpg'), 'photo of v person'), (PosixPath('content/data/v/v6.jpg'), 'photo of v person'), (PosixPath('content/data/v/v4.jpg'), 'photo of v person'), (PosixPath('content/data/v/v1.jpg'), 'photo of v person'), (PosixPath('content/data/v/v15.jpg'), 'photo of v person'), (PosixPath('content/data/v/v17.jpg'), 'photo of v person'), (PosixPath('content/data/v/v8.jpg'), 'photo of v person'), (PosixPath('content/data/v/v14.jpg'), 'photo of v person'), (PosixPath('content/data/v/v13.jpg'), 'photo of v person'), (PosixPath('content/data/v/v11.jpg'), 'photo of v person')] with self.num_instance_images 18\n",
      "Caching latents:  38%|█████████▉                | 19/50 [00:07<00:05,  5.90it/s]_getitem_ info: self.instance_images_path [(PosixPath('content/data/v/v16.jpg'), 'photo of v person'), (PosixPath('content/data/v/v9.jpg'), 'photo of v person'), (PosixPath('content/data/v/v10.jpg'), 'photo of v person'), (PosixPath('content/data/v/v3.jpg'), 'photo of v person'), (PosixPath('content/data/v/v7.jpg'), 'photo of v person'), (PosixPath('content/data/v/v12.jpg'), 'photo of v person'), (PosixPath('content/data/v/v18.jpg'), 'photo of v person'), (PosixPath('content/data/v/v2.jpg'), 'photo of v person'), (PosixPath('content/data/v/v5.jpg'), 'photo of v person'), (PosixPath('content/data/v/v6.jpg'), 'photo of v person'), (PosixPath('content/data/v/v4.jpg'), 'photo of v person'), (PosixPath('content/data/v/v1.jpg'), 'photo of v person'), (PosixPath('content/data/v/v15.jpg'), 'photo of v person'), (PosixPath('content/data/v/v17.jpg'), 'photo of v person'), (PosixPath('content/data/v/v8.jpg'), 'photo of v person'), (PosixPath('content/data/v/v14.jpg'), 'photo of v person'), (PosixPath('content/data/v/v13.jpg'), 'photo of v person'), (PosixPath('content/data/v/v11.jpg'), 'photo of v person')] with self.num_instance_images 18\n",
      "Caching latents:  40%|██████████▍               | 20/50 [00:07<00:05,  5.92it/s]_getitem_ info: self.instance_images_path [(PosixPath('content/data/v/v16.jpg'), 'photo of v person'), (PosixPath('content/data/v/v9.jpg'), 'photo of v person'), (PosixPath('content/data/v/v10.jpg'), 'photo of v person'), (PosixPath('content/data/v/v3.jpg'), 'photo of v person'), (PosixPath('content/data/v/v7.jpg'), 'photo of v person'), (PosixPath('content/data/v/v12.jpg'), 'photo of v person'), (PosixPath('content/data/v/v18.jpg'), 'photo of v person'), (PosixPath('content/data/v/v2.jpg'), 'photo of v person'), (PosixPath('content/data/v/v5.jpg'), 'photo of v person'), (PosixPath('content/data/v/v6.jpg'), 'photo of v person'), (PosixPath('content/data/v/v4.jpg'), 'photo of v person'), (PosixPath('content/data/v/v1.jpg'), 'photo of v person'), (PosixPath('content/data/v/v15.jpg'), 'photo of v person'), (PosixPath('content/data/v/v17.jpg'), 'photo of v person'), (PosixPath('content/data/v/v8.jpg'), 'photo of v person'), (PosixPath('content/data/v/v14.jpg'), 'photo of v person'), (PosixPath('content/data/v/v13.jpg'), 'photo of v person'), (PosixPath('content/data/v/v11.jpg'), 'photo of v person')] with self.num_instance_images 18\n",
      "Caching latents:  42%|██████████▉               | 21/50 [00:07<00:04,  5.93it/s]_getitem_ info: self.instance_images_path [(PosixPath('content/data/v/v16.jpg'), 'photo of v person'), (PosixPath('content/data/v/v9.jpg'), 'photo of v person'), (PosixPath('content/data/v/v10.jpg'), 'photo of v person'), (PosixPath('content/data/v/v3.jpg'), 'photo of v person'), (PosixPath('content/data/v/v7.jpg'), 'photo of v person'), (PosixPath('content/data/v/v12.jpg'), 'photo of v person'), (PosixPath('content/data/v/v18.jpg'), 'photo of v person'), (PosixPath('content/data/v/v2.jpg'), 'photo of v person'), (PosixPath('content/data/v/v5.jpg'), 'photo of v person'), (PosixPath('content/data/v/v6.jpg'), 'photo of v person'), (PosixPath('content/data/v/v4.jpg'), 'photo of v person'), (PosixPath('content/data/v/v1.jpg'), 'photo of v person'), (PosixPath('content/data/v/v15.jpg'), 'photo of v person'), (PosixPath('content/data/v/v17.jpg'), 'photo of v person'), (PosixPath('content/data/v/v8.jpg'), 'photo of v person'), (PosixPath('content/data/v/v14.jpg'), 'photo of v person'), (PosixPath('content/data/v/v13.jpg'), 'photo of v person'), (PosixPath('content/data/v/v11.jpg'), 'photo of v person')] with self.num_instance_images 18\n",
      "Caching latents:  44%|███████████▍              | 22/50 [00:07<00:04,  5.95it/s]_getitem_ info: self.instance_images_path [(PosixPath('content/data/v/v16.jpg'), 'photo of v person'), (PosixPath('content/data/v/v9.jpg'), 'photo of v person'), (PosixPath('content/data/v/v10.jpg'), 'photo of v person'), (PosixPath('content/data/v/v3.jpg'), 'photo of v person'), (PosixPath('content/data/v/v7.jpg'), 'photo of v person'), (PosixPath('content/data/v/v12.jpg'), 'photo of v person'), (PosixPath('content/data/v/v18.jpg'), 'photo of v person'), (PosixPath('content/data/v/v2.jpg'), 'photo of v person'), (PosixPath('content/data/v/v5.jpg'), 'photo of v person'), (PosixPath('content/data/v/v6.jpg'), 'photo of v person'), (PosixPath('content/data/v/v4.jpg'), 'photo of v person'), (PosixPath('content/data/v/v1.jpg'), 'photo of v person'), (PosixPath('content/data/v/v15.jpg'), 'photo of v person'), (PosixPath('content/data/v/v17.jpg'), 'photo of v person'), (PosixPath('content/data/v/v8.jpg'), 'photo of v person'), (PosixPath('content/data/v/v14.jpg'), 'photo of v person'), (PosixPath('content/data/v/v13.jpg'), 'photo of v person'), (PosixPath('content/data/v/v11.jpg'), 'photo of v person')] with self.num_instance_images 18\n",
      "Caching latents:  46%|███████████▉              | 23/50 [00:07<00:04,  5.96it/s]_getitem_ info: self.instance_images_path [(PosixPath('content/data/v/v16.jpg'), 'photo of v person'), (PosixPath('content/data/v/v9.jpg'), 'photo of v person'), (PosixPath('content/data/v/v10.jpg'), 'photo of v person'), (PosixPath('content/data/v/v3.jpg'), 'photo of v person'), (PosixPath('content/data/v/v7.jpg'), 'photo of v person'), (PosixPath('content/data/v/v12.jpg'), 'photo of v person'), (PosixPath('content/data/v/v18.jpg'), 'photo of v person'), (PosixPath('content/data/v/v2.jpg'), 'photo of v person'), (PosixPath('content/data/v/v5.jpg'), 'photo of v person'), (PosixPath('content/data/v/v6.jpg'), 'photo of v person'), (PosixPath('content/data/v/v4.jpg'), 'photo of v person'), (PosixPath('content/data/v/v1.jpg'), 'photo of v person'), (PosixPath('content/data/v/v15.jpg'), 'photo of v person'), (PosixPath('content/data/v/v17.jpg'), 'photo of v person'), (PosixPath('content/data/v/v8.jpg'), 'photo of v person'), (PosixPath('content/data/v/v14.jpg'), 'photo of v person'), (PosixPath('content/data/v/v13.jpg'), 'photo of v person'), (PosixPath('content/data/v/v11.jpg'), 'photo of v person')] with self.num_instance_images 18\n",
      "Caching latents:  48%|████████████▍             | 24/50 [00:07<00:04,  5.98it/s]_getitem_ info: self.instance_images_path [(PosixPath('content/data/v/v16.jpg'), 'photo of v person'), (PosixPath('content/data/v/v9.jpg'), 'photo of v person'), (PosixPath('content/data/v/v10.jpg'), 'photo of v person'), (PosixPath('content/data/v/v3.jpg'), 'photo of v person'), (PosixPath('content/data/v/v7.jpg'), 'photo of v person'), (PosixPath('content/data/v/v12.jpg'), 'photo of v person'), (PosixPath('content/data/v/v18.jpg'), 'photo of v person'), (PosixPath('content/data/v/v2.jpg'), 'photo of v person'), (PosixPath('content/data/v/v5.jpg'), 'photo of v person'), (PosixPath('content/data/v/v6.jpg'), 'photo of v person'), (PosixPath('content/data/v/v4.jpg'), 'photo of v person'), (PosixPath('content/data/v/v1.jpg'), 'photo of v person'), (PosixPath('content/data/v/v15.jpg'), 'photo of v person'), (PosixPath('content/data/v/v17.jpg'), 'photo of v person'), (PosixPath('content/data/v/v8.jpg'), 'photo of v person'), (PosixPath('content/data/v/v14.jpg'), 'photo of v person'), (PosixPath('content/data/v/v13.jpg'), 'photo of v person'), (PosixPath('content/data/v/v11.jpg'), 'photo of v person')] with self.num_instance_images 18\n",
      "Caching latents:  50%|█████████████             | 25/50 [00:08<00:04,  5.99it/s]_getitem_ info: self.instance_images_path [(PosixPath('content/data/v/v16.jpg'), 'photo of v person'), (PosixPath('content/data/v/v9.jpg'), 'photo of v person'), (PosixPath('content/data/v/v10.jpg'), 'photo of v person'), (PosixPath('content/data/v/v3.jpg'), 'photo of v person'), (PosixPath('content/data/v/v7.jpg'), 'photo of v person'), (PosixPath('content/data/v/v12.jpg'), 'photo of v person'), (PosixPath('content/data/v/v18.jpg'), 'photo of v person'), (PosixPath('content/data/v/v2.jpg'), 'photo of v person'), (PosixPath('content/data/v/v5.jpg'), 'photo of v person'), (PosixPath('content/data/v/v6.jpg'), 'photo of v person'), (PosixPath('content/data/v/v4.jpg'), 'photo of v person'), (PosixPath('content/data/v/v1.jpg'), 'photo of v person'), (PosixPath('content/data/v/v15.jpg'), 'photo of v person'), (PosixPath('content/data/v/v17.jpg'), 'photo of v person'), (PosixPath('content/data/v/v8.jpg'), 'photo of v person'), (PosixPath('content/data/v/v14.jpg'), 'photo of v person'), (PosixPath('content/data/v/v13.jpg'), 'photo of v person'), (PosixPath('content/data/v/v11.jpg'), 'photo of v person')] with self.num_instance_images 18\n",
      "Caching latents:  52%|█████████████▌            | 26/50 [00:08<00:04,  5.98it/s]_getitem_ info: self.instance_images_path [(PosixPath('content/data/v/v16.jpg'), 'photo of v person'), (PosixPath('content/data/v/v9.jpg'), 'photo of v person'), (PosixPath('content/data/v/v10.jpg'), 'photo of v person'), (PosixPath('content/data/v/v3.jpg'), 'photo of v person'), (PosixPath('content/data/v/v7.jpg'), 'photo of v person'), (PosixPath('content/data/v/v12.jpg'), 'photo of v person'), (PosixPath('content/data/v/v18.jpg'), 'photo of v person'), (PosixPath('content/data/v/v2.jpg'), 'photo of v person'), (PosixPath('content/data/v/v5.jpg'), 'photo of v person'), (PosixPath('content/data/v/v6.jpg'), 'photo of v person'), (PosixPath('content/data/v/v4.jpg'), 'photo of v person'), (PosixPath('content/data/v/v1.jpg'), 'photo of v person'), (PosixPath('content/data/v/v15.jpg'), 'photo of v person'), (PosixPath('content/data/v/v17.jpg'), 'photo of v person'), (PosixPath('content/data/v/v8.jpg'), 'photo of v person'), (PosixPath('content/data/v/v14.jpg'), 'photo of v person'), (PosixPath('content/data/v/v13.jpg'), 'photo of v person'), (PosixPath('content/data/v/v11.jpg'), 'photo of v person')] with self.num_instance_images 18\n",
      "Caching latents:  54%|██████████████            | 27/50 [00:08<00:03,  5.96it/s]_getitem_ info: self.instance_images_path [(PosixPath('content/data/v/v16.jpg'), 'photo of v person'), (PosixPath('content/data/v/v9.jpg'), 'photo of v person'), (PosixPath('content/data/v/v10.jpg'), 'photo of v person'), (PosixPath('content/data/v/v3.jpg'), 'photo of v person'), (PosixPath('content/data/v/v7.jpg'), 'photo of v person'), (PosixPath('content/data/v/v12.jpg'), 'photo of v person'), (PosixPath('content/data/v/v18.jpg'), 'photo of v person'), (PosixPath('content/data/v/v2.jpg'), 'photo of v person'), (PosixPath('content/data/v/v5.jpg'), 'photo of v person'), (PosixPath('content/data/v/v6.jpg'), 'photo of v person'), (PosixPath('content/data/v/v4.jpg'), 'photo of v person'), (PosixPath('content/data/v/v1.jpg'), 'photo of v person'), (PosixPath('content/data/v/v15.jpg'), 'photo of v person'), (PosixPath('content/data/v/v17.jpg'), 'photo of v person'), (PosixPath('content/data/v/v8.jpg'), 'photo of v person'), (PosixPath('content/data/v/v14.jpg'), 'photo of v person'), (PosixPath('content/data/v/v13.jpg'), 'photo of v person'), (PosixPath('content/data/v/v11.jpg'), 'photo of v person')] with self.num_instance_images 18\n",
      "Caching latents:  56%|██████████████▌           | 28/50 [00:08<00:03,  5.97it/s]_getitem_ info: self.instance_images_path [(PosixPath('content/data/v/v16.jpg'), 'photo of v person'), (PosixPath('content/data/v/v9.jpg'), 'photo of v person'), (PosixPath('content/data/v/v10.jpg'), 'photo of v person'), (PosixPath('content/data/v/v3.jpg'), 'photo of v person'), (PosixPath('content/data/v/v7.jpg'), 'photo of v person'), (PosixPath('content/data/v/v12.jpg'), 'photo of v person'), (PosixPath('content/data/v/v18.jpg'), 'photo of v person'), (PosixPath('content/data/v/v2.jpg'), 'photo of v person'), (PosixPath('content/data/v/v5.jpg'), 'photo of v person'), (PosixPath('content/data/v/v6.jpg'), 'photo of v person'), (PosixPath('content/data/v/v4.jpg'), 'photo of v person'), (PosixPath('content/data/v/v1.jpg'), 'photo of v person'), (PosixPath('content/data/v/v15.jpg'), 'photo of v person'), (PosixPath('content/data/v/v17.jpg'), 'photo of v person'), (PosixPath('content/data/v/v8.jpg'), 'photo of v person'), (PosixPath('content/data/v/v14.jpg'), 'photo of v person'), (PosixPath('content/data/v/v13.jpg'), 'photo of v person'), (PosixPath('content/data/v/v11.jpg'), 'photo of v person')] with self.num_instance_images 18\n",
      "Caching latents:  58%|███████████████           | 29/50 [00:08<00:03,  5.98it/s]_getitem_ info: self.instance_images_path [(PosixPath('content/data/v/v16.jpg'), 'photo of v person'), (PosixPath('content/data/v/v9.jpg'), 'photo of v person'), (PosixPath('content/data/v/v10.jpg'), 'photo of v person'), (PosixPath('content/data/v/v3.jpg'), 'photo of v person'), (PosixPath('content/data/v/v7.jpg'), 'photo of v person'), (PosixPath('content/data/v/v12.jpg'), 'photo of v person'), (PosixPath('content/data/v/v18.jpg'), 'photo of v person'), (PosixPath('content/data/v/v2.jpg'), 'photo of v person'), (PosixPath('content/data/v/v5.jpg'), 'photo of v person'), (PosixPath('content/data/v/v6.jpg'), 'photo of v person'), (PosixPath('content/data/v/v4.jpg'), 'photo of v person'), (PosixPath('content/data/v/v1.jpg'), 'photo of v person'), (PosixPath('content/data/v/v15.jpg'), 'photo of v person'), (PosixPath('content/data/v/v17.jpg'), 'photo of v person'), (PosixPath('content/data/v/v8.jpg'), 'photo of v person'), (PosixPath('content/data/v/v14.jpg'), 'photo of v person'), (PosixPath('content/data/v/v13.jpg'), 'photo of v person'), (PosixPath('content/data/v/v11.jpg'), 'photo of v person')] with self.num_instance_images 18\n",
      "Caching latents:  60%|███████████████▌          | 30/50 [00:08<00:03,  5.99it/s]_getitem_ info: self.instance_images_path [(PosixPath('content/data/v/v16.jpg'), 'photo of v person'), (PosixPath('content/data/v/v9.jpg'), 'photo of v person'), (PosixPath('content/data/v/v10.jpg'), 'photo of v person'), (PosixPath('content/data/v/v3.jpg'), 'photo of v person'), (PosixPath('content/data/v/v7.jpg'), 'photo of v person'), (PosixPath('content/data/v/v12.jpg'), 'photo of v person'), (PosixPath('content/data/v/v18.jpg'), 'photo of v person'), (PosixPath('content/data/v/v2.jpg'), 'photo of v person'), (PosixPath('content/data/v/v5.jpg'), 'photo of v person'), (PosixPath('content/data/v/v6.jpg'), 'photo of v person'), (PosixPath('content/data/v/v4.jpg'), 'photo of v person'), (PosixPath('content/data/v/v1.jpg'), 'photo of v person'), (PosixPath('content/data/v/v15.jpg'), 'photo of v person'), (PosixPath('content/data/v/v17.jpg'), 'photo of v person'), (PosixPath('content/data/v/v8.jpg'), 'photo of v person'), (PosixPath('content/data/v/v14.jpg'), 'photo of v person'), (PosixPath('content/data/v/v13.jpg'), 'photo of v person'), (PosixPath('content/data/v/v11.jpg'), 'photo of v person')] with self.num_instance_images 18\n",
      "Caching latents:  62%|████████████████          | 31/50 [00:09<00:03,  5.98it/s]_getitem_ info: self.instance_images_path [(PosixPath('content/data/v/v16.jpg'), 'photo of v person'), (PosixPath('content/data/v/v9.jpg'), 'photo of v person'), (PosixPath('content/data/v/v10.jpg'), 'photo of v person'), (PosixPath('content/data/v/v3.jpg'), 'photo of v person'), (PosixPath('content/data/v/v7.jpg'), 'photo of v person'), (PosixPath('content/data/v/v12.jpg'), 'photo of v person'), (PosixPath('content/data/v/v18.jpg'), 'photo of v person'), (PosixPath('content/data/v/v2.jpg'), 'photo of v person'), (PosixPath('content/data/v/v5.jpg'), 'photo of v person'), (PosixPath('content/data/v/v6.jpg'), 'photo of v person'), (PosixPath('content/data/v/v4.jpg'), 'photo of v person'), (PosixPath('content/data/v/v1.jpg'), 'photo of v person'), (PosixPath('content/data/v/v15.jpg'), 'photo of v person'), (PosixPath('content/data/v/v17.jpg'), 'photo of v person'), (PosixPath('content/data/v/v8.jpg'), 'photo of v person'), (PosixPath('content/data/v/v14.jpg'), 'photo of v person'), (PosixPath('content/data/v/v13.jpg'), 'photo of v person'), (PosixPath('content/data/v/v11.jpg'), 'photo of v person')] with self.num_instance_images 18\n",
      "Caching latents:  64%|████████████████▋         | 32/50 [00:09<00:03,  5.98it/s]_getitem_ info: self.instance_images_path [(PosixPath('content/data/v/v16.jpg'), 'photo of v person'), (PosixPath('content/data/v/v9.jpg'), 'photo of v person'), (PosixPath('content/data/v/v10.jpg'), 'photo of v person'), (PosixPath('content/data/v/v3.jpg'), 'photo of v person'), (PosixPath('content/data/v/v7.jpg'), 'photo of v person'), (PosixPath('content/data/v/v12.jpg'), 'photo of v person'), (PosixPath('content/data/v/v18.jpg'), 'photo of v person'), (PosixPath('content/data/v/v2.jpg'), 'photo of v person'), (PosixPath('content/data/v/v5.jpg'), 'photo of v person'), (PosixPath('content/data/v/v6.jpg'), 'photo of v person'), (PosixPath('content/data/v/v4.jpg'), 'photo of v person'), (PosixPath('content/data/v/v1.jpg'), 'photo of v person'), (PosixPath('content/data/v/v15.jpg'), 'photo of v person'), (PosixPath('content/data/v/v17.jpg'), 'photo of v person'), (PosixPath('content/data/v/v8.jpg'), 'photo of v person'), (PosixPath('content/data/v/v14.jpg'), 'photo of v person'), (PosixPath('content/data/v/v13.jpg'), 'photo of v person'), (PosixPath('content/data/v/v11.jpg'), 'photo of v person')] with self.num_instance_images 18\n",
      "Caching latents:  66%|█████████████████▏        | 33/50 [00:09<00:02,  5.97it/s]_getitem_ info: self.instance_images_path [(PosixPath('content/data/v/v16.jpg'), 'photo of v person'), (PosixPath('content/data/v/v9.jpg'), 'photo of v person'), (PosixPath('content/data/v/v10.jpg'), 'photo of v person'), (PosixPath('content/data/v/v3.jpg'), 'photo of v person'), (PosixPath('content/data/v/v7.jpg'), 'photo of v person'), (PosixPath('content/data/v/v12.jpg'), 'photo of v person'), (PosixPath('content/data/v/v18.jpg'), 'photo of v person'), (PosixPath('content/data/v/v2.jpg'), 'photo of v person'), (PosixPath('content/data/v/v5.jpg'), 'photo of v person'), (PosixPath('content/data/v/v6.jpg'), 'photo of v person'), (PosixPath('content/data/v/v4.jpg'), 'photo of v person'), (PosixPath('content/data/v/v1.jpg'), 'photo of v person'), (PosixPath('content/data/v/v15.jpg'), 'photo of v person'), (PosixPath('content/data/v/v17.jpg'), 'photo of v person'), (PosixPath('content/data/v/v8.jpg'), 'photo of v person'), (PosixPath('content/data/v/v14.jpg'), 'photo of v person'), (PosixPath('content/data/v/v13.jpg'), 'photo of v person'), (PosixPath('content/data/v/v11.jpg'), 'photo of v person')] with self.num_instance_images 18\n",
      "Caching latents:  68%|█████████████████▋        | 34/50 [00:09<00:02,  5.95it/s]_getitem_ info: self.instance_images_path [(PosixPath('content/data/v/v16.jpg'), 'photo of v person'), (PosixPath('content/data/v/v9.jpg'), 'photo of v person'), (PosixPath('content/data/v/v10.jpg'), 'photo of v person'), (PosixPath('content/data/v/v3.jpg'), 'photo of v person'), (PosixPath('content/data/v/v7.jpg'), 'photo of v person'), (PosixPath('content/data/v/v12.jpg'), 'photo of v person'), (PosixPath('content/data/v/v18.jpg'), 'photo of v person'), (PosixPath('content/data/v/v2.jpg'), 'photo of v person'), (PosixPath('content/data/v/v5.jpg'), 'photo of v person'), (PosixPath('content/data/v/v6.jpg'), 'photo of v person'), (PosixPath('content/data/v/v4.jpg'), 'photo of v person'), (PosixPath('content/data/v/v1.jpg'), 'photo of v person'), (PosixPath('content/data/v/v15.jpg'), 'photo of v person'), (PosixPath('content/data/v/v17.jpg'), 'photo of v person'), (PosixPath('content/data/v/v8.jpg'), 'photo of v person'), (PosixPath('content/data/v/v14.jpg'), 'photo of v person'), (PosixPath('content/data/v/v13.jpg'), 'photo of v person'), (PosixPath('content/data/v/v11.jpg'), 'photo of v person')] with self.num_instance_images 18\n",
      "Caching latents:  70%|██████████████████▏       | 35/50 [00:09<00:02,  5.97it/s]_getitem_ info: self.instance_images_path [(PosixPath('content/data/v/v16.jpg'), 'photo of v person'), (PosixPath('content/data/v/v9.jpg'), 'photo of v person'), (PosixPath('content/data/v/v10.jpg'), 'photo of v person'), (PosixPath('content/data/v/v3.jpg'), 'photo of v person'), (PosixPath('content/data/v/v7.jpg'), 'photo of v person'), (PosixPath('content/data/v/v12.jpg'), 'photo of v person'), (PosixPath('content/data/v/v18.jpg'), 'photo of v person'), (PosixPath('content/data/v/v2.jpg'), 'photo of v person'), (PosixPath('content/data/v/v5.jpg'), 'photo of v person'), (PosixPath('content/data/v/v6.jpg'), 'photo of v person'), (PosixPath('content/data/v/v4.jpg'), 'photo of v person'), (PosixPath('content/data/v/v1.jpg'), 'photo of v person'), (PosixPath('content/data/v/v15.jpg'), 'photo of v person'), (PosixPath('content/data/v/v17.jpg'), 'photo of v person'), (PosixPath('content/data/v/v8.jpg'), 'photo of v person'), (PosixPath('content/data/v/v14.jpg'), 'photo of v person'), (PosixPath('content/data/v/v13.jpg'), 'photo of v person'), (PosixPath('content/data/v/v11.jpg'), 'photo of v person')] with self.num_instance_images 18\n",
      "Caching latents:  72%|██████████████████▋       | 36/50 [00:09<00:02,  5.99it/s]_getitem_ info: self.instance_images_path [(PosixPath('content/data/v/v16.jpg'), 'photo of v person'), (PosixPath('content/data/v/v9.jpg'), 'photo of v person'), (PosixPath('content/data/v/v10.jpg'), 'photo of v person'), (PosixPath('content/data/v/v3.jpg'), 'photo of v person'), (PosixPath('content/data/v/v7.jpg'), 'photo of v person'), (PosixPath('content/data/v/v12.jpg'), 'photo of v person'), (PosixPath('content/data/v/v18.jpg'), 'photo of v person'), (PosixPath('content/data/v/v2.jpg'), 'photo of v person'), (PosixPath('content/data/v/v5.jpg'), 'photo of v person'), (PosixPath('content/data/v/v6.jpg'), 'photo of v person'), (PosixPath('content/data/v/v4.jpg'), 'photo of v person'), (PosixPath('content/data/v/v1.jpg'), 'photo of v person'), (PosixPath('content/data/v/v15.jpg'), 'photo of v person'), (PosixPath('content/data/v/v17.jpg'), 'photo of v person'), (PosixPath('content/data/v/v8.jpg'), 'photo of v person'), (PosixPath('content/data/v/v14.jpg'), 'photo of v person'), (PosixPath('content/data/v/v13.jpg'), 'photo of v person'), (PosixPath('content/data/v/v11.jpg'), 'photo of v person')] with self.num_instance_images 18\n",
      "Caching latents:  74%|███████████████████▏      | 37/50 [00:10<00:02,  5.99it/s]_getitem_ info: self.instance_images_path [(PosixPath('content/data/v/v16.jpg'), 'photo of v person'), (PosixPath('content/data/v/v9.jpg'), 'photo of v person'), (PosixPath('content/data/v/v10.jpg'), 'photo of v person'), (PosixPath('content/data/v/v3.jpg'), 'photo of v person'), (PosixPath('content/data/v/v7.jpg'), 'photo of v person'), (PosixPath('content/data/v/v12.jpg'), 'photo of v person'), (PosixPath('content/data/v/v18.jpg'), 'photo of v person'), (PosixPath('content/data/v/v2.jpg'), 'photo of v person'), (PosixPath('content/data/v/v5.jpg'), 'photo of v person'), (PosixPath('content/data/v/v6.jpg'), 'photo of v person'), (PosixPath('content/data/v/v4.jpg'), 'photo of v person'), (PosixPath('content/data/v/v1.jpg'), 'photo of v person'), (PosixPath('content/data/v/v15.jpg'), 'photo of v person'), (PosixPath('content/data/v/v17.jpg'), 'photo of v person'), (PosixPath('content/data/v/v8.jpg'), 'photo of v person'), (PosixPath('content/data/v/v14.jpg'), 'photo of v person'), (PosixPath('content/data/v/v13.jpg'), 'photo of v person'), (PosixPath('content/data/v/v11.jpg'), 'photo of v person')] with self.num_instance_images 18\n",
      "Caching latents:  76%|███████████████████▊      | 38/50 [00:10<00:02,  5.97it/s]_getitem_ info: self.instance_images_path [(PosixPath('content/data/v/v16.jpg'), 'photo of v person'), (PosixPath('content/data/v/v9.jpg'), 'photo of v person'), (PosixPath('content/data/v/v10.jpg'), 'photo of v person'), (PosixPath('content/data/v/v3.jpg'), 'photo of v person'), (PosixPath('content/data/v/v7.jpg'), 'photo of v person'), (PosixPath('content/data/v/v12.jpg'), 'photo of v person'), (PosixPath('content/data/v/v18.jpg'), 'photo of v person'), (PosixPath('content/data/v/v2.jpg'), 'photo of v person'), (PosixPath('content/data/v/v5.jpg'), 'photo of v person'), (PosixPath('content/data/v/v6.jpg'), 'photo of v person'), (PosixPath('content/data/v/v4.jpg'), 'photo of v person'), (PosixPath('content/data/v/v1.jpg'), 'photo of v person'), (PosixPath('content/data/v/v15.jpg'), 'photo of v person'), (PosixPath('content/data/v/v17.jpg'), 'photo of v person'), (PosixPath('content/data/v/v8.jpg'), 'photo of v person'), (PosixPath('content/data/v/v14.jpg'), 'photo of v person'), (PosixPath('content/data/v/v13.jpg'), 'photo of v person'), (PosixPath('content/data/v/v11.jpg'), 'photo of v person')] with self.num_instance_images 18\n",
      "Caching latents:  78%|████████████████████▎     | 39/50 [00:10<00:01,  5.97it/s]_getitem_ info: self.instance_images_path [(PosixPath('content/data/v/v16.jpg'), 'photo of v person'), (PosixPath('content/data/v/v9.jpg'), 'photo of v person'), (PosixPath('content/data/v/v10.jpg'), 'photo of v person'), (PosixPath('content/data/v/v3.jpg'), 'photo of v person'), (PosixPath('content/data/v/v7.jpg'), 'photo of v person'), (PosixPath('content/data/v/v12.jpg'), 'photo of v person'), (PosixPath('content/data/v/v18.jpg'), 'photo of v person'), (PosixPath('content/data/v/v2.jpg'), 'photo of v person'), (PosixPath('content/data/v/v5.jpg'), 'photo of v person'), (PosixPath('content/data/v/v6.jpg'), 'photo of v person'), (PosixPath('content/data/v/v4.jpg'), 'photo of v person'), (PosixPath('content/data/v/v1.jpg'), 'photo of v person'), (PosixPath('content/data/v/v15.jpg'), 'photo of v person'), (PosixPath('content/data/v/v17.jpg'), 'photo of v person'), (PosixPath('content/data/v/v8.jpg'), 'photo of v person'), (PosixPath('content/data/v/v14.jpg'), 'photo of v person'), (PosixPath('content/data/v/v13.jpg'), 'photo of v person'), (PosixPath('content/data/v/v11.jpg'), 'photo of v person')] with self.num_instance_images 18\n",
      "Caching latents:  80%|████████████████████▊     | 40/50 [00:10<00:01,  5.97it/s]_getitem_ info: self.instance_images_path [(PosixPath('content/data/v/v16.jpg'), 'photo of v person'), (PosixPath('content/data/v/v9.jpg'), 'photo of v person'), (PosixPath('content/data/v/v10.jpg'), 'photo of v person'), (PosixPath('content/data/v/v3.jpg'), 'photo of v person'), (PosixPath('content/data/v/v7.jpg'), 'photo of v person'), (PosixPath('content/data/v/v12.jpg'), 'photo of v person'), (PosixPath('content/data/v/v18.jpg'), 'photo of v person'), (PosixPath('content/data/v/v2.jpg'), 'photo of v person'), (PosixPath('content/data/v/v5.jpg'), 'photo of v person'), (PosixPath('content/data/v/v6.jpg'), 'photo of v person'), (PosixPath('content/data/v/v4.jpg'), 'photo of v person'), (PosixPath('content/data/v/v1.jpg'), 'photo of v person'), (PosixPath('content/data/v/v15.jpg'), 'photo of v person'), (PosixPath('content/data/v/v17.jpg'), 'photo of v person'), (PosixPath('content/data/v/v8.jpg'), 'photo of v person'), (PosixPath('content/data/v/v14.jpg'), 'photo of v person'), (PosixPath('content/data/v/v13.jpg'), 'photo of v person'), (PosixPath('content/data/v/v11.jpg'), 'photo of v person')] with self.num_instance_images 18\n",
      "Caching latents:  82%|█████████████████████▎    | 41/50 [00:10<00:01,  5.98it/s]_getitem_ info: self.instance_images_path [(PosixPath('content/data/v/v16.jpg'), 'photo of v person'), (PosixPath('content/data/v/v9.jpg'), 'photo of v person'), (PosixPath('content/data/v/v10.jpg'), 'photo of v person'), (PosixPath('content/data/v/v3.jpg'), 'photo of v person'), (PosixPath('content/data/v/v7.jpg'), 'photo of v person'), (PosixPath('content/data/v/v12.jpg'), 'photo of v person'), (PosixPath('content/data/v/v18.jpg'), 'photo of v person'), (PosixPath('content/data/v/v2.jpg'), 'photo of v person'), (PosixPath('content/data/v/v5.jpg'), 'photo of v person'), (PosixPath('content/data/v/v6.jpg'), 'photo of v person'), (PosixPath('content/data/v/v4.jpg'), 'photo of v person'), (PosixPath('content/data/v/v1.jpg'), 'photo of v person'), (PosixPath('content/data/v/v15.jpg'), 'photo of v person'), (PosixPath('content/data/v/v17.jpg'), 'photo of v person'), (PosixPath('content/data/v/v8.jpg'), 'photo of v person'), (PosixPath('content/data/v/v14.jpg'), 'photo of v person'), (PosixPath('content/data/v/v13.jpg'), 'photo of v person'), (PosixPath('content/data/v/v11.jpg'), 'photo of v person')] with self.num_instance_images 18\n",
      "Caching latents:  84%|█████████████████████▊    | 42/50 [00:10<00:01,  5.97it/s]_getitem_ info: self.instance_images_path [(PosixPath('content/data/v/v16.jpg'), 'photo of v person'), (PosixPath('content/data/v/v9.jpg'), 'photo of v person'), (PosixPath('content/data/v/v10.jpg'), 'photo of v person'), (PosixPath('content/data/v/v3.jpg'), 'photo of v person'), (PosixPath('content/data/v/v7.jpg'), 'photo of v person'), (PosixPath('content/data/v/v12.jpg'), 'photo of v person'), (PosixPath('content/data/v/v18.jpg'), 'photo of v person'), (PosixPath('content/data/v/v2.jpg'), 'photo of v person'), (PosixPath('content/data/v/v5.jpg'), 'photo of v person'), (PosixPath('content/data/v/v6.jpg'), 'photo of v person'), (PosixPath('content/data/v/v4.jpg'), 'photo of v person'), (PosixPath('content/data/v/v1.jpg'), 'photo of v person'), (PosixPath('content/data/v/v15.jpg'), 'photo of v person'), (PosixPath('content/data/v/v17.jpg'), 'photo of v person'), (PosixPath('content/data/v/v8.jpg'), 'photo of v person'), (PosixPath('content/data/v/v14.jpg'), 'photo of v person'), (PosixPath('content/data/v/v13.jpg'), 'photo of v person'), (PosixPath('content/data/v/v11.jpg'), 'photo of v person')] with self.num_instance_images 18\n",
      "Caching latents:  86%|██████████████████████▎   | 43/50 [00:11<00:01,  5.97it/s]_getitem_ info: self.instance_images_path [(PosixPath('content/data/v/v16.jpg'), 'photo of v person'), (PosixPath('content/data/v/v9.jpg'), 'photo of v person'), (PosixPath('content/data/v/v10.jpg'), 'photo of v person'), (PosixPath('content/data/v/v3.jpg'), 'photo of v person'), (PosixPath('content/data/v/v7.jpg'), 'photo of v person'), (PosixPath('content/data/v/v12.jpg'), 'photo of v person'), (PosixPath('content/data/v/v18.jpg'), 'photo of v person'), (PosixPath('content/data/v/v2.jpg'), 'photo of v person'), (PosixPath('content/data/v/v5.jpg'), 'photo of v person'), (PosixPath('content/data/v/v6.jpg'), 'photo of v person'), (PosixPath('content/data/v/v4.jpg'), 'photo of v person'), (PosixPath('content/data/v/v1.jpg'), 'photo of v person'), (PosixPath('content/data/v/v15.jpg'), 'photo of v person'), (PosixPath('content/data/v/v17.jpg'), 'photo of v person'), (PosixPath('content/data/v/v8.jpg'), 'photo of v person'), (PosixPath('content/data/v/v14.jpg'), 'photo of v person'), (PosixPath('content/data/v/v13.jpg'), 'photo of v person'), (PosixPath('content/data/v/v11.jpg'), 'photo of v person')] with self.num_instance_images 18\n",
      "Caching latents:  88%|██████████████████████▉   | 44/50 [00:11<00:01,  5.96it/s]_getitem_ info: self.instance_images_path [(PosixPath('content/data/v/v16.jpg'), 'photo of v person'), (PosixPath('content/data/v/v9.jpg'), 'photo of v person'), (PosixPath('content/data/v/v10.jpg'), 'photo of v person'), (PosixPath('content/data/v/v3.jpg'), 'photo of v person'), (PosixPath('content/data/v/v7.jpg'), 'photo of v person'), (PosixPath('content/data/v/v12.jpg'), 'photo of v person'), (PosixPath('content/data/v/v18.jpg'), 'photo of v person'), (PosixPath('content/data/v/v2.jpg'), 'photo of v person'), (PosixPath('content/data/v/v5.jpg'), 'photo of v person'), (PosixPath('content/data/v/v6.jpg'), 'photo of v person'), (PosixPath('content/data/v/v4.jpg'), 'photo of v person'), (PosixPath('content/data/v/v1.jpg'), 'photo of v person'), (PosixPath('content/data/v/v15.jpg'), 'photo of v person'), (PosixPath('content/data/v/v17.jpg'), 'photo of v person'), (PosixPath('content/data/v/v8.jpg'), 'photo of v person'), (PosixPath('content/data/v/v14.jpg'), 'photo of v person'), (PosixPath('content/data/v/v13.jpg'), 'photo of v person'), (PosixPath('content/data/v/v11.jpg'), 'photo of v person')] with self.num_instance_images 18\n",
      "Caching latents:  90%|███████████████████████▍  | 45/50 [00:11<00:00,  5.93it/s]_getitem_ info: self.instance_images_path [(PosixPath('content/data/v/v16.jpg'), 'photo of v person'), (PosixPath('content/data/v/v9.jpg'), 'photo of v person'), (PosixPath('content/data/v/v10.jpg'), 'photo of v person'), (PosixPath('content/data/v/v3.jpg'), 'photo of v person'), (PosixPath('content/data/v/v7.jpg'), 'photo of v person'), (PosixPath('content/data/v/v12.jpg'), 'photo of v person'), (PosixPath('content/data/v/v18.jpg'), 'photo of v person'), (PosixPath('content/data/v/v2.jpg'), 'photo of v person'), (PosixPath('content/data/v/v5.jpg'), 'photo of v person'), (PosixPath('content/data/v/v6.jpg'), 'photo of v person'), (PosixPath('content/data/v/v4.jpg'), 'photo of v person'), (PosixPath('content/data/v/v1.jpg'), 'photo of v person'), (PosixPath('content/data/v/v15.jpg'), 'photo of v person'), (PosixPath('content/data/v/v17.jpg'), 'photo of v person'), (PosixPath('content/data/v/v8.jpg'), 'photo of v person'), (PosixPath('content/data/v/v14.jpg'), 'photo of v person'), (PosixPath('content/data/v/v13.jpg'), 'photo of v person'), (PosixPath('content/data/v/v11.jpg'), 'photo of v person')] with self.num_instance_images 18\n",
      "Caching latents:  92%|███████████████████████▉  | 46/50 [00:11<00:00,  5.95it/s]_getitem_ info: self.instance_images_path [(PosixPath('content/data/v/v16.jpg'), 'photo of v person'), (PosixPath('content/data/v/v9.jpg'), 'photo of v person'), (PosixPath('content/data/v/v10.jpg'), 'photo of v person'), (PosixPath('content/data/v/v3.jpg'), 'photo of v person'), (PosixPath('content/data/v/v7.jpg'), 'photo of v person'), (PosixPath('content/data/v/v12.jpg'), 'photo of v person'), (PosixPath('content/data/v/v18.jpg'), 'photo of v person'), (PosixPath('content/data/v/v2.jpg'), 'photo of v person'), (PosixPath('content/data/v/v5.jpg'), 'photo of v person'), (PosixPath('content/data/v/v6.jpg'), 'photo of v person'), (PosixPath('content/data/v/v4.jpg'), 'photo of v person'), (PosixPath('content/data/v/v1.jpg'), 'photo of v person'), (PosixPath('content/data/v/v15.jpg'), 'photo of v person'), (PosixPath('content/data/v/v17.jpg'), 'photo of v person'), (PosixPath('content/data/v/v8.jpg'), 'photo of v person'), (PosixPath('content/data/v/v14.jpg'), 'photo of v person'), (PosixPath('content/data/v/v13.jpg'), 'photo of v person'), (PosixPath('content/data/v/v11.jpg'), 'photo of v person')] with self.num_instance_images 18\n",
      "Caching latents:  94%|████████████████████████▍ | 47/50 [00:11<00:00,  5.96it/s]_getitem_ info: self.instance_images_path [(PosixPath('content/data/v/v16.jpg'), 'photo of v person'), (PosixPath('content/data/v/v9.jpg'), 'photo of v person'), (PosixPath('content/data/v/v10.jpg'), 'photo of v person'), (PosixPath('content/data/v/v3.jpg'), 'photo of v person'), (PosixPath('content/data/v/v7.jpg'), 'photo of v person'), (PosixPath('content/data/v/v12.jpg'), 'photo of v person'), (PosixPath('content/data/v/v18.jpg'), 'photo of v person'), (PosixPath('content/data/v/v2.jpg'), 'photo of v person'), (PosixPath('content/data/v/v5.jpg'), 'photo of v person'), (PosixPath('content/data/v/v6.jpg'), 'photo of v person'), (PosixPath('content/data/v/v4.jpg'), 'photo of v person'), (PosixPath('content/data/v/v1.jpg'), 'photo of v person'), (PosixPath('content/data/v/v15.jpg'), 'photo of v person'), (PosixPath('content/data/v/v17.jpg'), 'photo of v person'), (PosixPath('content/data/v/v8.jpg'), 'photo of v person'), (PosixPath('content/data/v/v14.jpg'), 'photo of v person'), (PosixPath('content/data/v/v13.jpg'), 'photo of v person'), (PosixPath('content/data/v/v11.jpg'), 'photo of v person')] with self.num_instance_images 18\n",
      "Caching latents:  96%|████████████████████████▉ | 48/50 [00:11<00:00,  5.96it/s]_getitem_ info: self.instance_images_path [(PosixPath('content/data/v/v16.jpg'), 'photo of v person'), (PosixPath('content/data/v/v9.jpg'), 'photo of v person'), (PosixPath('content/data/v/v10.jpg'), 'photo of v person'), (PosixPath('content/data/v/v3.jpg'), 'photo of v person'), (PosixPath('content/data/v/v7.jpg'), 'photo of v person'), (PosixPath('content/data/v/v12.jpg'), 'photo of v person'), (PosixPath('content/data/v/v18.jpg'), 'photo of v person'), (PosixPath('content/data/v/v2.jpg'), 'photo of v person'), (PosixPath('content/data/v/v5.jpg'), 'photo of v person'), (PosixPath('content/data/v/v6.jpg'), 'photo of v person'), (PosixPath('content/data/v/v4.jpg'), 'photo of v person'), (PosixPath('content/data/v/v1.jpg'), 'photo of v person'), (PosixPath('content/data/v/v15.jpg'), 'photo of v person'), (PosixPath('content/data/v/v17.jpg'), 'photo of v person'), (PosixPath('content/data/v/v8.jpg'), 'photo of v person'), (PosixPath('content/data/v/v14.jpg'), 'photo of v person'), (PosixPath('content/data/v/v13.jpg'), 'photo of v person'), (PosixPath('content/data/v/v11.jpg'), 'photo of v person')] with self.num_instance_images 18\n",
      "Caching latents:  98%|█████████████████████████▍| 49/50 [00:12<00:00,  5.95it/s]_getitem_ info: self.instance_images_path [(PosixPath('content/data/v/v16.jpg'), 'photo of v person'), (PosixPath('content/data/v/v9.jpg'), 'photo of v person'), (PosixPath('content/data/v/v10.jpg'), 'photo of v person'), (PosixPath('content/data/v/v3.jpg'), 'photo of v person'), (PosixPath('content/data/v/v7.jpg'), 'photo of v person'), (PosixPath('content/data/v/v12.jpg'), 'photo of v person'), (PosixPath('content/data/v/v18.jpg'), 'photo of v person'), (PosixPath('content/data/v/v2.jpg'), 'photo of v person'), (PosixPath('content/data/v/v5.jpg'), 'photo of v person'), (PosixPath('content/data/v/v6.jpg'), 'photo of v person'), (PosixPath('content/data/v/v4.jpg'), 'photo of v person'), (PosixPath('content/data/v/v1.jpg'), 'photo of v person'), (PosixPath('content/data/v/v15.jpg'), 'photo of v person'), (PosixPath('content/data/v/v17.jpg'), 'photo of v person'), (PosixPath('content/data/v/v8.jpg'), 'photo of v person'), (PosixPath('content/data/v/v14.jpg'), 'photo of v person'), (PosixPath('content/data/v/v13.jpg'), 'photo of v person'), (PosixPath('content/data/v/v11.jpg'), 'photo of v person')] with self.num_instance_images 18\n",
      "Caching latents: 100%|██████████████████████████| 50/50 [00:12<00:00,  4.07it/s]\n",
      "Steps: 100%|███████████| 1200/1200 [16:39<00:00,  1.20it/s, loss=0.284, lr=1e-6]\n",
      "Fetching 15 files: 100%|███████████████████████| 15/15 [00:00<00:00, 433.64it/s]\u001b[A\n",
      "/opt/conda/lib/python3.8/site-packages/diffusers/utils/deprecation_utils.py:35: FutureWarning: The configuration file of this scheduler: DDIMScheduler {\n",
      "  \"_class_name\": \"DDIMScheduler\",\n",
      "  \"_diffusers_version\": \"0.9.0\",\n",
      "  \"beta_end\": 0.012,\n",
      "  \"beta_schedule\": \"scaled_linear\",\n",
      "  \"beta_start\": 0.00085,\n",
      "  \"clip_sample\": false,\n",
      "  \"num_train_timesteps\": 1000,\n",
      "  \"prediction_type\": \"epsilon\",\n",
      "  \"set_alpha_to_one\": false,\n",
      "  \"steps_offset\": 0,\n",
      "  \"trained_betas\": null\n",
      "}\n",
      " is outdated. `steps_offset` should be set to 1 instead of 0. Please make sure to update the config accordingly as leaving `steps_offset` might led to incorrect results in future versions. If you have downloaded this checkpoint from the Hugging Face Hub, it would be very nice if you could open a Pull request for the `scheduler/scheduler_config.json` file\n",
      "  warnings.warn(warning + message, FutureWarning)\n",
      "\n",
      "Generating samples:   0%|                                 | 0/4 [00:00<?, ?it/s]\u001b[A\n",
      "Generating samples:  25%|██████▎                  | 1/4 [00:11<00:34, 11.36s/it]\u001b[A\n",
      "Generating samples:  50%|████████████▌            | 2/4 [00:19<00:18,  9.37s/it]\u001b[A\n",
      "Generating samples:  75%|██████████████████▊      | 3/4 [00:27<00:08,  8.75s/it]\u001b[A\n",
      "Generating samples: 100%|█████████████████████████| 4/4 [00:35<00:00,  8.84s/it]\u001b[A\n",
      "[*] Weights saved at ./content/stable_diffusion_weights/v/1200\n",
      "Steps: 100%|███████████| 1200/1200 [17:59<00:00,  1.11it/s, loss=0.284, lr=1e-6]\n"
     ]
    }
   ],
   "source": [
    "!accelerate launch train_dreambooth_ShivamShrirao.py \\\n",
    "  --pretrained_model_name_or_path=$MODEL_NAME \\\n",
    "  --pretrained_vae_name_or_path=\"stabilityai/sd-vae-ft-mse\" \\\n",
    "  --output_dir=$OUTPUT_DIR \\\n",
    "  --revision=\"fp16\" \\\n",
    "  --with_prior_preservation --prior_loss_weight=1.0 \\\n",
    "  --seed=1337 \\\n",
    "  --resolution=512 \\\n",
    "  --train_batch_size=1 \\\n",
    "  --train_text_encoder \\\n",
    "  --mixed_precision=\"fp16\" \\\n",
    "  --use_8bit_adam \\\n",
    "  --gradient_accumulation_steps=1 \\\n",
    "  --learning_rate=1e-6 \\\n",
    "  --lr_scheduler=\"constant\" \\\n",
    "  --lr_warmup_steps=0 \\\n",
    "  --num_class_images=50 \\\n",
    "  --sample_batch_size=4 \\\n",
    "  --max_train_steps=1200 \\\n",
    "  --save_interval=10000 \\\n",
    "  --save_sample_prompt=\"photo of v person\" \\\n",
    "  --concepts_list=\"concepts_list.json\""
   ]
  },
  {
   "cell_type": "markdown",
   "metadata": {},
   "source": [
    "UpdateWeights"
   ]
  },
  {
   "cell_type": "code",
   "execution_count": 8,
   "metadata": {},
   "outputs": [
    {
     "name": "stdout",
     "output_type": "stream",
     "text": [
      "[*] WEIGHTS_DIR=./content/stable_diffusion_weights/v/1200\n"
     ]
    }
   ],
   "source": [
    "WEIGHTS_DIR = \"\" \n",
    "if WEIGHTS_DIR == \"\":\n",
    "    from natsort import natsorted\n",
    "    from glob import glob\n",
    "    import os\n",
    "    WEIGHTS_DIR = natsorted(glob(OUTPUT_DIR + os.sep + \"*\"))[-1]\n",
    "print(f\"[*] WEIGHTS_DIR={WEIGHTS_DIR}\")"
   ]
  },
  {
   "cell_type": "markdown",
   "metadata": {},
   "source": [
    "Generate a grid of preview images"
   ]
  },
  {
   "cell_type": "code",
   "execution_count": null,
   "metadata": {},
   "outputs": [],
   "source": [
    "import os\n",
    "import matplotlib.pyplot as plt\n",
    "import matplotlib.image as mpimg\n",
    "\n",
    "weights_folder = OUTPUT_DIR\n",
    "folders = sorted([f for f in os.listdir(weights_folder) if f != \"0\"], key=lambda x: int(x))\n",
    "\n",
    "row = len(folders)\n",
    "col = len(os.listdir(os.path.join(weights_folder, folders[0], \"samples\")))\n",
    "scale = 4\n",
    "fig, axes = plt.subplots(row, col, figsize=(col*scale, row*scale), gridspec_kw={'hspace': 0, 'wspace': 0})\n",
    "\n",
    "for i, folder in enumerate(folders):\n",
    "    folder_path = os.path.join(weights_folder, folder)\n",
    "    image_folder = os.path.join(folder_path, \"samples\")\n",
    "    images = [f for f in os.listdir(image_folder)]\n",
    "    for j, image in enumerate(images):\n",
    "        if row == 1:\n",
    "            currAxes = axes[j]\n",
    "        else:\n",
    "            currAxes = axes[i, j]\n",
    "        if i == 0:\n",
    "            currAxes.set_title(f\"Image {j}\")\n",
    "        if j == 0:\n",
    "            currAxes.text(-0.1, 0.5, folder, rotation=0, va='center', ha='center', transform=currAxes.transAxes)\n",
    "        image_path = os.path.join(image_folder, image)\n",
    "        img = mpimg.imread(image_path)\n",
    "        #currAxes.imshow(img, cmap='gray')\n",
    "        currAxes.axis('off')\n",
    "        \n",
    "plt.tight_layout()\n",
    "plt.savefig('content/grid.png', dpi=72)"
   ]
  },
  {
   "cell_type": "markdown",
   "metadata": {},
   "source": [
    "Convert weights to ckpt to use in web UIs like AutoMatic1111"
   ]
  },
  {
   "cell_type": "code",
   "execution_count": 10,
   "metadata": {},
   "outputs": [
    {
     "name": "stdout",
     "output_type": "stream",
     "text": [
      "Reshaping encoder.mid.attn_1.q.weight for SD format\n",
      "Reshaping encoder.mid.attn_1.k.weight for SD format\n",
      "Reshaping encoder.mid.attn_1.v.weight for SD format\n",
      "Reshaping encoder.mid.attn_1.proj_out.weight for SD format\n",
      "Reshaping decoder.mid.attn_1.q.weight for SD format\n",
      "Reshaping decoder.mid.attn_1.k.weight for SD format\n",
      "Reshaping decoder.mid.attn_1.v.weight for SD format\n",
      "Reshaping decoder.mid.attn_1.proj_out.weight for SD format\n",
      "[*] Converted ckpt saved at ./content/stable_diffusion_weights/v/1200/model.ckpt\n"
     ]
    }
   ],
   "source": [
    "#@markdown Run conversion.\n",
    "ckpt_path = WEIGHTS_DIR + \"/model.ckpt\"\n",
    "\n",
    "half_arg = \"\"\n",
    "#@markdown  Whether to convert to fp16, takes half the space (2GB).\n",
    "fp16 = True #@param {type: \"boolean\"}\n",
    "if fp16:\n",
    "    half_arg = \"--half\"\n",
    "!python convert_diffusers_to_original_stable_diffusion_ShivamShrirao.py --model_path $WEIGHTS_DIR  --checkpoint_path $ckpt_path $half_arg\n",
    "print(f\"[*] Converted ckpt saved at {ckpt_path}\")"
   ]
  },
  {
   "cell_type": "markdown",
   "metadata": {},
   "source": [
    "Inference"
   ]
  },
  {
   "cell_type": "code",
   "execution_count": 11,
   "metadata": {},
   "outputs": [
    {
     "name": "stderr",
     "output_type": "stream",
     "text": [
      "/opt/conda/lib/python3.8/site-packages/tqdm/auto.py:22: TqdmWarning: IProgress not found. Please update jupyter and ipywidgets. See https://ipywidgets.readthedocs.io/en/stable/user_install.html\n",
      "  from .autonotebook import tqdm as notebook_tqdm\n",
      "/opt/conda/lib/python3.8/site-packages/diffusers/utils/deprecation_utils.py:35: FutureWarning: The configuration file of this scheduler: DDIMScheduler {\n",
      "  \"_class_name\": \"DDIMScheduler\",\n",
      "  \"_diffusers_version\": \"0.9.0\",\n",
      "  \"beta_end\": 0.012,\n",
      "  \"beta_schedule\": \"scaled_linear\",\n",
      "  \"beta_start\": 0.00085,\n",
      "  \"clip_sample\": false,\n",
      "  \"num_train_timesteps\": 1000,\n",
      "  \"prediction_type\": \"epsilon\",\n",
      "  \"set_alpha_to_one\": false,\n",
      "  \"steps_offset\": 0,\n",
      "  \"trained_betas\": null\n",
      "}\n",
      " is outdated. `steps_offset` should be set to 1 instead of 0. Please make sure to update the config accordingly as leaving `steps_offset` might led to incorrect results in future versions. If you have downloaded this checkpoint from the Hugging Face Hub, it would be very nice if you could open a Pull request for the `scheduler/scheduler_config.json` file\n",
      "  warnings.warn(warning + message, FutureWarning)\n"
     ]
    }
   ],
   "source": [
    "import torch\n",
    "from torch import autocast\n",
    "from diffusers import StableDiffusionPipeline, DDIMScheduler\n",
    "from IPython.display import display\n",
    "\n",
    "model_path = WEIGHTS_DIR             # If you want to use previously trained model saved in gdrive, replace this with the full path of model in gdrive\n",
    "\n",
    "scheduler = DDIMScheduler(beta_start=0.00085, beta_end=0.012, beta_schedule=\"scaled_linear\", clip_sample=False, set_alpha_to_one=False)\n",
    "pipe = StableDiffusionPipeline.from_pretrained(model_path, scheduler=scheduler, safety_checker=None, torch_dtype=torch.float16).to(\"cuda\")\n",
    "\n",
    "g_cuda = None"
   ]
  },
  {
   "cell_type": "code",
   "execution_count": 12,
   "metadata": {},
   "outputs": [
    {
     "data": {
      "text/plain": [
       "<torch._C.Generator at 0x7f3e1741f510>"
      ]
     },
     "execution_count": 12,
     "metadata": {},
     "output_type": "execute_result"
    }
   ],
   "source": [
    "#@markdown Can set random seed here for reproducibility.\n",
    "g_cuda = torch.Generator(device='cuda')\n",
    "seed = 52362 #@param {type:\"number\"}\n",
    "g_cuda.manual_seed(random.randint(100, 60000))"
   ]
  },
  {
   "cell_type": "code",
   "execution_count": null,
   "metadata": {},
   "outputs": [],
   "source": [
    "from datetime import datetime\n",
    "\n",
    "prompt = \"overdetailed cinematic portrait of v person\"\n",
    "\n",
    "negative_prompt = \"\" #@param {type:\"string\"}\n",
    "num_samples = 1 #@param {type:\"number\"}\n",
    "guidance_scale = 9 #@param {type:\"number\"}\n",
    "num_inference_steps = 100 #@param {type:\"number\"}\n",
    "height = 512 #@param {type:\"number\"}\n",
    "width = 512 #@param {type:\"number\"}\n",
    "\n",
    "outerloop_iterations = 5\n",
    "\n",
    "for i in range(outerloop_iterations):\n",
    "    with autocast(\"cuda\"), torch.inference_mode():\n",
    "        images = pipe(\n",
    "            prompt,\n",
    "            height=height,\n",
    "            width=width,\n",
    "            negative_prompt=negative_prompt,\n",
    "            num_images_per_prompt=num_samples,\n",
    "            num_inference_steps=num_inference_steps,\n",
    "            guidance_scale=guidance_scale,\n",
    "            generator=g_cuda\n",
    "        ).images\n",
    "\n",
    "    for img in images: \n",
    "        dt = datetime.now() \n",
    "        ts = datetime.timestamp(dt)\n",
    "\n",
    "        #display(img)\n",
    "        img.save('./content/vOutputs/'+str(ts) + \".jpg\", \"JPEG\")\n",
    "        #print(type(img))"
   ]
  },
  {
   "cell_type": "code",
   "execution_count": null,
   "metadata": {},
   "outputs": [],
   "source": [
    "#@title (Optional) Delete diffuser and old weights and only keep the ckpt to free up drive space.\n",
    "\n",
    "#@markdown [ ! ] Caution, Only execute if you are sure u want to delete the diffuser format weights and only use the ckpt.\n",
    "import shutil\n",
    "from glob import glob\n",
    "import os\n",
    "for f in glob(OUTPUT_DIR+os.sep+\"*\"):\n",
    "    if f != WEIGHTS_DIR:\n",
    "        shutil.rmtree(f)\n",
    "        print(\"Deleted\", f)\n",
    "for f in glob(WEIGHTS_DIR+\"/*\"):\n",
    "    if not f.endswith(\".ckpt\") or not f.endswith(\".json\"):\n",
    "        try:\n",
    "            shutil.rmtree(f)\n",
    "        except NotADirectoryError:\n",
    "            continue\n",
    "        print(\"Deleted\", f)"
   ]
  },
  {
   "cell_type": "code",
   "execution_count": 69,
   "metadata": {},
   "outputs": [],
   "source": [
    "#@title Free runtime memory\n",
    "exit()"
   ]
  },
  {
   "cell_type": "code",
   "execution_count": null,
   "metadata": {},
   "outputs": [],
   "source": []
  }
 ],
 "metadata": {
  "availableInstances": [
   {
    "_defaultOrder": 0,
    "_isFastLaunch": true,
    "category": "General purpose",
    "gpuNum": 0,
    "memoryGiB": 4,
    "name": "ml.t3.medium",
    "vcpuNum": 2
   },
   {
    "_defaultOrder": 1,
    "_isFastLaunch": false,
    "category": "General purpose",
    "gpuNum": 0,
    "memoryGiB": 8,
    "name": "ml.t3.large",
    "vcpuNum": 2
   },
   {
    "_defaultOrder": 2,
    "_isFastLaunch": false,
    "category": "General purpose",
    "gpuNum": 0,
    "memoryGiB": 16,
    "name": "ml.t3.xlarge",
    "vcpuNum": 4
   },
   {
    "_defaultOrder": 3,
    "_isFastLaunch": false,
    "category": "General purpose",
    "gpuNum": 0,
    "memoryGiB": 32,
    "name": "ml.t3.2xlarge",
    "vcpuNum": 8
   },
   {
    "_defaultOrder": 4,
    "_isFastLaunch": true,
    "category": "General purpose",
    "gpuNum": 0,
    "memoryGiB": 8,
    "name": "ml.m5.large",
    "vcpuNum": 2
   },
   {
    "_defaultOrder": 5,
    "_isFastLaunch": false,
    "category": "General purpose",
    "gpuNum": 0,
    "memoryGiB": 16,
    "name": "ml.m5.xlarge",
    "vcpuNum": 4
   },
   {
    "_defaultOrder": 6,
    "_isFastLaunch": false,
    "category": "General purpose",
    "gpuNum": 0,
    "memoryGiB": 32,
    "name": "ml.m5.2xlarge",
    "vcpuNum": 8
   },
   {
    "_defaultOrder": 7,
    "_isFastLaunch": false,
    "category": "General purpose",
    "gpuNum": 0,
    "memoryGiB": 64,
    "name": "ml.m5.4xlarge",
    "vcpuNum": 16
   },
   {
    "_defaultOrder": 8,
    "_isFastLaunch": false,
    "category": "General purpose",
    "gpuNum": 0,
    "memoryGiB": 128,
    "name": "ml.m5.8xlarge",
    "vcpuNum": 32
   },
   {
    "_defaultOrder": 9,
    "_isFastLaunch": false,
    "category": "General purpose",
    "gpuNum": 0,
    "memoryGiB": 192,
    "name": "ml.m5.12xlarge",
    "vcpuNum": 48
   },
   {
    "_defaultOrder": 10,
    "_isFastLaunch": false,
    "category": "General purpose",
    "gpuNum": 0,
    "memoryGiB": 256,
    "name": "ml.m5.16xlarge",
    "vcpuNum": 64
   },
   {
    "_defaultOrder": 11,
    "_isFastLaunch": false,
    "category": "General purpose",
    "gpuNum": 0,
    "memoryGiB": 384,
    "name": "ml.m5.24xlarge",
    "vcpuNum": 96
   },
   {
    "_defaultOrder": 12,
    "_isFastLaunch": false,
    "category": "General purpose",
    "gpuNum": 0,
    "memoryGiB": 8,
    "name": "ml.m5d.large",
    "vcpuNum": 2
   },
   {
    "_defaultOrder": 13,
    "_isFastLaunch": false,
    "category": "General purpose",
    "gpuNum": 0,
    "memoryGiB": 16,
    "name": "ml.m5d.xlarge",
    "vcpuNum": 4
   },
   {
    "_defaultOrder": 14,
    "_isFastLaunch": false,
    "category": "General purpose",
    "gpuNum": 0,
    "memoryGiB": 32,
    "name": "ml.m5d.2xlarge",
    "vcpuNum": 8
   },
   {
    "_defaultOrder": 15,
    "_isFastLaunch": false,
    "category": "General purpose",
    "gpuNum": 0,
    "memoryGiB": 64,
    "name": "ml.m5d.4xlarge",
    "vcpuNum": 16
   },
   {
    "_defaultOrder": 16,
    "_isFastLaunch": false,
    "category": "General purpose",
    "gpuNum": 0,
    "memoryGiB": 128,
    "name": "ml.m5d.8xlarge",
    "vcpuNum": 32
   },
   {
    "_defaultOrder": 17,
    "_isFastLaunch": false,
    "category": "General purpose",
    "gpuNum": 0,
    "memoryGiB": 192,
    "name": "ml.m5d.12xlarge",
    "vcpuNum": 48
   },
   {
    "_defaultOrder": 18,
    "_isFastLaunch": false,
    "category": "General purpose",
    "gpuNum": 0,
    "memoryGiB": 256,
    "name": "ml.m5d.16xlarge",
    "vcpuNum": 64
   },
   {
    "_defaultOrder": 19,
    "_isFastLaunch": false,
    "category": "General purpose",
    "gpuNum": 0,
    "memoryGiB": 384,
    "name": "ml.m5d.24xlarge",
    "vcpuNum": 96
   },
   {
    "_defaultOrder": 20,
    "_isFastLaunch": true,
    "category": "Compute optimized",
    "gpuNum": 0,
    "memoryGiB": 4,
    "name": "ml.c5.large",
    "vcpuNum": 2
   },
   {
    "_defaultOrder": 21,
    "_isFastLaunch": false,
    "category": "Compute optimized",
    "gpuNum": 0,
    "memoryGiB": 8,
    "name": "ml.c5.xlarge",
    "vcpuNum": 4
   },
   {
    "_defaultOrder": 22,
    "_isFastLaunch": false,
    "category": "Compute optimized",
    "gpuNum": 0,
    "memoryGiB": 16,
    "name": "ml.c5.2xlarge",
    "vcpuNum": 8
   },
   {
    "_defaultOrder": 23,
    "_isFastLaunch": false,
    "category": "Compute optimized",
    "gpuNum": 0,
    "memoryGiB": 32,
    "name": "ml.c5.4xlarge",
    "vcpuNum": 16
   },
   {
    "_defaultOrder": 24,
    "_isFastLaunch": false,
    "category": "Compute optimized",
    "gpuNum": 0,
    "memoryGiB": 72,
    "name": "ml.c5.9xlarge",
    "vcpuNum": 36
   },
   {
    "_defaultOrder": 25,
    "_isFastLaunch": false,
    "category": "Compute optimized",
    "gpuNum": 0,
    "memoryGiB": 96,
    "name": "ml.c5.12xlarge",
    "vcpuNum": 48
   },
   {
    "_defaultOrder": 26,
    "_isFastLaunch": false,
    "category": "Compute optimized",
    "gpuNum": 0,
    "memoryGiB": 144,
    "name": "ml.c5.18xlarge",
    "vcpuNum": 72
   },
   {
    "_defaultOrder": 27,
    "_isFastLaunch": false,
    "category": "Compute optimized",
    "gpuNum": 0,
    "memoryGiB": 192,
    "name": "ml.c5.24xlarge",
    "vcpuNum": 96
   },
   {
    "_defaultOrder": 28,
    "_isFastLaunch": true,
    "category": "Accelerated computing",
    "gpuNum": 1,
    "memoryGiB": 16,
    "name": "ml.g4dn.xlarge",
    "vcpuNum": 4
   },
   {
    "_defaultOrder": 29,
    "_isFastLaunch": false,
    "category": "Accelerated computing",
    "gpuNum": 1,
    "memoryGiB": 32,
    "name": "ml.g4dn.2xlarge",
    "vcpuNum": 8
   },
   {
    "_defaultOrder": 30,
    "_isFastLaunch": false,
    "category": "Accelerated computing",
    "gpuNum": 1,
    "memoryGiB": 64,
    "name": "ml.g4dn.4xlarge",
    "vcpuNum": 16
   },
   {
    "_defaultOrder": 31,
    "_isFastLaunch": false,
    "category": "Accelerated computing",
    "gpuNum": 1,
    "memoryGiB": 128,
    "name": "ml.g4dn.8xlarge",
    "vcpuNum": 32
   },
   {
    "_defaultOrder": 32,
    "_isFastLaunch": false,
    "category": "Accelerated computing",
    "gpuNum": 4,
    "memoryGiB": 192,
    "name": "ml.g4dn.12xlarge",
    "vcpuNum": 48
   },
   {
    "_defaultOrder": 33,
    "_isFastLaunch": false,
    "category": "Accelerated computing",
    "gpuNum": 1,
    "memoryGiB": 256,
    "name": "ml.g4dn.16xlarge",
    "vcpuNum": 64
   },
   {
    "_defaultOrder": 34,
    "_isFastLaunch": false,
    "category": "Accelerated computing",
    "gpuNum": 1,
    "memoryGiB": 61,
    "name": "ml.p3.2xlarge",
    "vcpuNum": 8
   },
   {
    "_defaultOrder": 35,
    "_isFastLaunch": false,
    "category": "Accelerated computing",
    "gpuNum": 4,
    "memoryGiB": 244,
    "name": "ml.p3.8xlarge",
    "vcpuNum": 32
   },
   {
    "_defaultOrder": 36,
    "_isFastLaunch": false,
    "category": "Accelerated computing",
    "gpuNum": 8,
    "memoryGiB": 488,
    "name": "ml.p3.16xlarge",
    "vcpuNum": 64
   },
   {
    "_defaultOrder": 37,
    "_isFastLaunch": false,
    "category": "Accelerated computing",
    "gpuNum": 8,
    "memoryGiB": 768,
    "name": "ml.p3dn.24xlarge",
    "vcpuNum": 96
   },
   {
    "_defaultOrder": 38,
    "_isFastLaunch": false,
    "category": "Memory Optimized",
    "gpuNum": 0,
    "memoryGiB": 16,
    "name": "ml.r5.large",
    "vcpuNum": 2
   },
   {
    "_defaultOrder": 39,
    "_isFastLaunch": false,
    "category": "Memory Optimized",
    "gpuNum": 0,
    "memoryGiB": 32,
    "name": "ml.r5.xlarge",
    "vcpuNum": 4
   },
   {
    "_defaultOrder": 40,
    "_isFastLaunch": false,
    "category": "Memory Optimized",
    "gpuNum": 0,
    "memoryGiB": 64,
    "name": "ml.r5.2xlarge",
    "vcpuNum": 8
   },
   {
    "_defaultOrder": 41,
    "_isFastLaunch": false,
    "category": "Memory Optimized",
    "gpuNum": 0,
    "memoryGiB": 128,
    "name": "ml.r5.4xlarge",
    "vcpuNum": 16
   },
   {
    "_defaultOrder": 42,
    "_isFastLaunch": false,
    "category": "Memory Optimized",
    "gpuNum": 0,
    "memoryGiB": 256,
    "name": "ml.r5.8xlarge",
    "vcpuNum": 32
   },
   {
    "_defaultOrder": 43,
    "_isFastLaunch": false,
    "category": "Memory Optimized",
    "gpuNum": 0,
    "memoryGiB": 384,
    "name": "ml.r5.12xlarge",
    "vcpuNum": 48
   },
   {
    "_defaultOrder": 44,
    "_isFastLaunch": false,
    "category": "Memory Optimized",
    "gpuNum": 0,
    "memoryGiB": 512,
    "name": "ml.r5.16xlarge",
    "vcpuNum": 64
   },
   {
    "_defaultOrder": 45,
    "_isFastLaunch": false,
    "category": "Memory Optimized",
    "gpuNum": 0,
    "memoryGiB": 768,
    "name": "ml.r5.24xlarge",
    "vcpuNum": 96
   },
   {
    "_defaultOrder": 46,
    "_isFastLaunch": false,
    "category": "Accelerated computing",
    "gpuNum": 1,
    "memoryGiB": 16,
    "name": "ml.g5.xlarge",
    "vcpuNum": 4
   },
   {
    "_defaultOrder": 47,
    "_isFastLaunch": false,
    "category": "Accelerated computing",
    "gpuNum": 1,
    "memoryGiB": 32,
    "name": "ml.g5.2xlarge",
    "vcpuNum": 8
   },
   {
    "_defaultOrder": 48,
    "_isFastLaunch": false,
    "category": "Accelerated computing",
    "gpuNum": 1,
    "memoryGiB": 64,
    "name": "ml.g5.4xlarge",
    "vcpuNum": 16
   },
   {
    "_defaultOrder": 49,
    "_isFastLaunch": false,
    "category": "Accelerated computing",
    "gpuNum": 1,
    "memoryGiB": 128,
    "name": "ml.g5.8xlarge",
    "vcpuNum": 32
   },
   {
    "_defaultOrder": 50,
    "_isFastLaunch": false,
    "category": "Accelerated computing",
    "gpuNum": 1,
    "memoryGiB": 256,
    "name": "ml.g5.16xlarge",
    "vcpuNum": 64
   },
   {
    "_defaultOrder": 51,
    "_isFastLaunch": false,
    "category": "Accelerated computing",
    "gpuNum": 4,
    "memoryGiB": 192,
    "name": "ml.g5.12xlarge",
    "vcpuNum": 48
   },
   {
    "_defaultOrder": 52,
    "_isFastLaunch": false,
    "category": "Accelerated computing",
    "gpuNum": 4,
    "memoryGiB": 384,
    "name": "ml.g5.24xlarge",
    "vcpuNum": 96
   },
   {
    "_defaultOrder": 53,
    "_isFastLaunch": false,
    "category": "Accelerated computing",
    "gpuNum": 8,
    "memoryGiB": 768,
    "name": "ml.g5.48xlarge",
    "vcpuNum": 192
   }
  ],
  "instance_type": "ml.g4dn.xlarge",
  "kernelspec": {
   "display_name": "Python 3 (PyTorch 1.12 Python 3.8 GPU Optimized)",
   "language": "python",
   "name": "python3__SAGEMAKER_INTERNAL__arn:aws:sagemaker:us-east-2:429704687514:image/pytorch-1.12-gpu-py38"
  },
  "language_info": {
   "codemirror_mode": {
    "name": "ipython",
    "version": 3
   },
   "file_extension": ".py",
   "mimetype": "text/x-python",
   "name": "python",
   "nbconvert_exporter": "python",
   "pygments_lexer": "ipython3",
   "version": "3.8.16"
  }
 },
 "nbformat": 4,
 "nbformat_minor": 4
}
